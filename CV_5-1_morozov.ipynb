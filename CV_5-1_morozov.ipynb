{
 "cells": [
  {
   "cell_type": "markdown",
   "id": "f50bd44f",
   "metadata": {},
   "source": [
    "# <center>Искусственный интеллект. Введение в нейронные сети.</center>\n",
    "\n",
    "<p style=\"text-align:right;\">выполнил: Морозов Е.А.</p>\n",
    "\n",
    "***\n",
    "\n",
    "\n",
    "## Постановка задачи.  \n",
    "\n",
    "Изменить простую нейронную сеть, построенную в ходе практического занятия с помощью фреймворка pytorch. Итоговая нейронная сеть должна решать задачу многоклассовой (не бинарной) классификации. Для чего нужно использовать функцию потерь (loss-function) и функцию активации (activation-function), отличные от применённых в примере.  \n",
    "\n",
    "Источник данных: keras MNIST dataset  \n",
    "\n",
    "\n",
    "### Ход работы.  \n",
    "\n",
    "1. Подключение библиотек, загрузка данных. Первичный анализ задачи и представление об архитектуре сети.  \n",
    "\n",
    "\n",
    "2. Изменение нейросети, построенной в ходе разбора учебной задачи:\n",
    "    - увеличение количества скрытых слоев (увеличить с 2 до 3)\n",
    "    - количество нейронов подставлять через массив, подаваемый при инициализации класса модели\n",
    "    - добавить *dropout=0.3* (вероятность выпадения нейрона в слое путём зануления его веса) до первого скрытого слоя  \n",
    "\n",
    "\n",
    "3. Показать, как изменения сети влияют на результат работы модели на тестовой выборке.  \n",
    "\n",
    "\n",
    "4. Посчитать метрики классификации через *classification report (sklearn)* для каждого класса.  \n",
    "\n",
    "\n",
    "5. Составление выводов.  \n",
    "\n",
    "***\n",
    "\n",
    "## Исследование.  \n",
    "\n",
    "Рассмотрев в ходе лекции сферы применения нейронных сетей и ознакомившись с устройством простейших моделей нейронных сетей, выясним, как происходит процесс ее обучения и какие гипер-параметры влияют на функционирование нейронной сети.  \n",
    "\n",
    "Учебный пример был построен на библиотеке **PyTorch**, однако в целях самообразования и сравнения была предпринята попытка ознакомления с библиотекой **Tensorflow** и фреймворка-надстройки над ней - **Keras**, которая приводится в тексте ниже.  \n",
    "\n",
    "Разбор начальной задачи вылился в увлекательное исследование темы нейронных сетей как универсальных классификаторов, которое будёт продолжено автором в порядке личной инициативы в виду потрясающего потенциала и действительной универсальности последних.  \n",
    "\n",
    "\n",
    "### Загрузка, импорты. Описание данных. EDA.  \n",
    "\n",
    "Сделаем импорты, установим компоненты для работы, опишем и проанализируем наблюдаемые данные."
   ]
  },
  {
   "cell_type": "code",
   "execution_count": 1,
   "id": "98dff8c8",
   "metadata": {},
   "outputs": [],
   "source": [
    "# перенесём импорты в первую ячейку\n",
    "#!pip install [keras, tensorflow, torch]\n",
    "\n",
    "import matplotlib.pyplot as plt\n",
    "import numpy as np\n",
    "import pandas as pd\n",
    "\n",
    "from keras import backend as K\n",
    "from keras.callbacks import EarlyStopping, ReduceLROnPlateau\n",
    "from keras.layers import Dense, Dropout, Flatten, Conv2D, AvgPool2D\n",
    "from keras.models import Sequential\n",
    "from keras.optimizers import Adam\n",
    "from keras.utils.np_utils import to_categorical\n",
    "\n",
    "from sklearn.linear_model import LogisticRegression\n",
    "from sklearn.metrics import f1_score, roc_auc_score, precision_score, recall_score,\\\n",
    "                            accuracy_score, classification_report, confusion_matrix,\\\n",
    "                            ConfusionMatrixDisplay                           \n",
    "from sklearn.model_selection import RandomizedSearchCV\n",
    "from sklearn.pipeline import Pipeline, FeatureUnion\n",
    "from sklearn.preprocessing import MinMaxScaler\n",
    "\n",
    "import tensorflow as tf"
   ]
  },
  {
   "cell_type": "markdown",
   "id": "b13c2373",
   "metadata": {},
   "source": [
    "### Нейрон. Линейная регрессия.  \n",
    "\n",
    "В порядке ознакомления с библиотекой и порядком вызова методов создадим сеть из 1 нейрона с помощью методов библиотеки **Keras**.  \n",
    "* `Sequential` - класс последовательных слоёв сети, используем 1 слой.  \n",
    "* `Dense` - класс полносвязного слоя, в котором все нейроны текущего слоя связаны со всеми нейронами след. слоя.  \n",
    "* `units=1` - кол-во нейронов слоя.  \n",
    "* `input_shape=(1,)` - размер входного слоя.  \n",
    "* `activation='relu'` - функция активации.  "
   ]
  },
  {
   "cell_type": "markdown",
   "id": "f2c258e2",
   "metadata": {},
   "source": [
    "Для воспроизводимости результатов зафиксируем случайность через метод **tensorflow**."
   ]
  },
  {
   "cell_type": "code",
   "execution_count": 2,
   "id": "ae69ab46",
   "metadata": {},
   "outputs": [],
   "source": [
    "tf.random.set_seed(606)"
   ]
  },
  {
   "cell_type": "code",
   "execution_count": 3,
   "id": "90396644",
   "metadata": {},
   "outputs": [
    {
     "name": "stdout",
     "output_type": "stream",
     "text": [
      "Model: \"sequential\"\n",
      "_________________________________________________________________\n",
      " Layer (type)                Output Shape              Param #   \n",
      "=================================================================\n",
      " dense (Dense)               (None, 1)                 2         \n",
      "                                                                 \n",
      "=================================================================\n",
      "Total params: 2\n",
      "Trainable params: 2\n",
      "Non-trainable params: 0\n",
      "_________________________________________________________________\n"
     ]
    }
   ],
   "source": [
    "# начнём с простой модели из 1 нейрона и выведем резюме по модели\n",
    "model = Sequential([\n",
    "    Dense(1, input_shape=(1,), activation='linear')\n",
    "])\n",
    "\n",
    "model.summary()"
   ]
  },
  {
   "cell_type": "markdown",
   "id": "4a8c9b0b",
   "metadata": {},
   "source": [
    "В резюме указаны 2 тренируемых параметра - это веса связей и свободных коэффициентов при них, рассмотрим их детальнее."
   ]
  },
  {
   "cell_type": "code",
   "execution_count": 4,
   "id": "239978ab",
   "metadata": {},
   "outputs": [
    {
     "data": {
      "text/plain": [
       "(array([[0.38008606]], dtype=float32), array([0.], dtype=float32))"
      ]
     },
     "execution_count": 4,
     "metadata": {},
     "output_type": "execute_result"
    }
   ],
   "source": [
    "# получим первоначальные веса при инициализации и сравним c результатами предсказаний\n",
    "# линейной функции активации по 1 объекту тренировочной выборки\n",
    "w1, w0 = model.get_weights()\n",
    "w1, w0"
   ]
  },
  {
   "cell_type": "code",
   "execution_count": 5,
   "id": "b199546c",
   "metadata": {},
   "outputs": [
    {
     "name": "stdout",
     "output_type": "stream",
     "text": [
      "1/1 [==============================] - 0s 62ms/step\n"
     ]
    },
    {
     "data": {
      "text/plain": [
       "array([[0.38008606]], dtype=float32)"
      ]
     },
     "execution_count": 5,
     "metadata": {},
     "output_type": "execute_result"
    }
   ],
   "source": [
    "X = np.array([1,3,10,17,-67])\n",
    "model.predict(X[:1])"
   ]
  },
  {
   "cell_type": "code",
   "execution_count": 6,
   "id": "e8aab819",
   "metadata": {},
   "outputs": [
    {
     "data": {
      "text/plain": [
       "array([[0.38008606]])"
      ]
     },
     "execution_count": 6,
     "metadata": {},
     "output_type": "execute_result"
    }
   ],
   "source": [
    "w1*X[:1]+w0 "
   ]
  },
  {
   "cell_type": "code",
   "execution_count": 7,
   "id": "ed74ee04",
   "metadata": {},
   "outputs": [
    {
     "data": {
      "text/plain": [
       "array([[0.38008606]])"
      ]
     },
     "execution_count": 7,
     "metadata": {},
     "output_type": "execute_result"
    }
   ],
   "source": [
    "from keras.activations import linear\n",
    "linear(w1*X[:1]+w0)"
   ]
  },
  {
   "cell_type": "markdown",
   "id": "876fabbf",
   "metadata": {},
   "source": [
    "### Нейрон умножения на число.  \n",
    "\n",
    "Повторим создание сети из 1 нейрона для операции умножения на число, создадим обучающий набор данных с которым будем работать."
   ]
  },
  {
   "cell_type": "code",
   "execution_count": 8,
   "id": "f398c72c",
   "metadata": {},
   "outputs": [
    {
     "data": {
      "text/plain": [
       "(array([[ 33],\n",
       "        [ 34],\n",
       "        [ 69],\n",
       "        [-12],\n",
       "        [ 56],\n",
       "        [-35],\n",
       "        [ 93],\n",
       "        [ 40],\n",
       "        [-97],\n",
       "        [ 71],\n",
       "        [ 32],\n",
       "        [ 22],\n",
       "        [-59],\n",
       "        [-67],\n",
       "        [ 28],\n",
       "        [ -8],\n",
       "        [-97],\n",
       "        [ -3],\n",
       "        [ 56],\n",
       "        [-88]]),\n",
       " array([[ 247.5],\n",
       "        [ 255. ],\n",
       "        [ 517.5],\n",
       "        [ -90. ],\n",
       "        [ 420. ],\n",
       "        [-262.5],\n",
       "        [ 697.5],\n",
       "        [ 300. ],\n",
       "        [-727.5],\n",
       "        [ 532.5],\n",
       "        [ 240. ],\n",
       "        [ 165. ],\n",
       "        [-442.5],\n",
       "        [-502.5],\n",
       "        [ 210. ],\n",
       "        [ -60. ],\n",
       "        [-727.5],\n",
       "        [ -22.5],\n",
       "        [ 420. ],\n",
       "        [-660. ]]))"
      ]
     },
     "execution_count": 8,
     "metadata": {},
     "output_type": "execute_result"
    }
   ],
   "source": [
    "rng = np.random.RandomState(seed=606)\n",
    "\n",
    "# данные для обучения\n",
    "X = np.array([[x] for x in rng.randint(-100, 100, 20)])\n",
    "y = np.array([x*7.5 for x in X])\n",
    "\n",
    "X, y"
   ]
  },
  {
   "cell_type": "code",
   "execution_count": 9,
   "id": "5994f26a",
   "metadata": {},
   "outputs": [
    {
     "data": {
      "text/plain": [
       "(array([[0.68421053],\n",
       "        [0.68947368],\n",
       "        [0.87368421],\n",
       "        [0.44736842],\n",
       "        [0.80526316],\n",
       "        [0.32631579],\n",
       "        [1.        ],\n",
       "        [0.72105263],\n",
       "        [0.        ],\n",
       "        [0.88421053],\n",
       "        [0.67894737],\n",
       "        [0.62631579],\n",
       "        [0.2       ],\n",
       "        [0.15789474],\n",
       "        [0.65789474],\n",
       "        [0.46842105],\n",
       "        [0.        ],\n",
       "        [0.49473684],\n",
       "        [0.80526316],\n",
       "        [0.04736842]]),\n",
       " array([[ 247.5],\n",
       "        [ 255. ],\n",
       "        [ 517.5],\n",
       "        [ -90. ],\n",
       "        [ 420. ],\n",
       "        [-262.5],\n",
       "        [ 697.5],\n",
       "        [ 300. ],\n",
       "        [-727.5],\n",
       "        [ 532.5],\n",
       "        [ 240. ],\n",
       "        [ 165. ],\n",
       "        [-442.5],\n",
       "        [-502.5],\n",
       "        [ 210. ],\n",
       "        [ -60. ],\n",
       "        [-727.5],\n",
       "        [ -22.5],\n",
       "        [ 420. ],\n",
       "        [-660. ]]))"
      ]
     },
     "execution_count": 9,
     "metadata": {},
     "output_type": "execute_result"
    }
   ],
   "source": [
    "# при таком диапазоне входных значений решение сети скорее всего не будет сходиться,\n",
    "# нормируем значения Х\n",
    "\n",
    "scaler = MinMaxScaler()\n",
    "X_norm = scaler.fit(X).transform(X)\n",
    "X_norm, y"
   ]
  },
  {
   "cell_type": "markdown",
   "id": "0cfd1729",
   "metadata": {},
   "source": [
    "* архитектура сети останется прежней, состоящей из 1 нейрона, на вход которому подаются значения, проходят через линейную функцию активации и на выход приходят также по 1 значению без преобразований.    \n",
    "* активация в данном случае линейная, чтобы изменять значение входа **линейно**, а не иначе.   \n",
    "* оптимизации будет подвергаться значение *MSE*.  \n",
    "* метрикой качества будем считать *MAE*."
   ]
  },
  {
   "cell_type": "markdown",
   "id": "c355337c",
   "metadata": {},
   "source": [
    "Линейная активация подходит, поскольку не меняет значения входа. Метод оптимизации, функция потерь и метрика качества задаются в атрибутах метода `compile()`."
   ]
  },
  {
   "cell_type": "code",
   "execution_count": 10,
   "id": "a9b50e1a",
   "metadata": {},
   "outputs": [
    {
     "name": "stdout",
     "output_type": "stream",
     "text": [
      "Wall time: 14.5 s\n"
     ]
    },
    {
     "data": {
      "text/plain": [
       "<keras.callbacks.History at 0x2911e5ccd00>"
      ]
     },
     "execution_count": 10,
     "metadata": {},
     "output_type": "execute_result"
    }
   ],
   "source": [
    "%%time\n",
    "\n",
    "# скомпилируем модель с пом. стохастич. градиентного спуска\n",
    "# и указанных выше функции потерь и метрики качества\n",
    "model = Sequential([\n",
    "    Dense(1, input_shape=(1,), activation='linear')\n",
    "])\n",
    "\n",
    "model.compile(optimizer='sgd', loss='mse', metrics='mae')\n",
    "\n",
    "# обучим модель на 100 эпохах для нахождения весов\n",
    "\n",
    "model.fit(X_norm, y, epochs=6000, verbose=0)"
   ]
  },
  {
   "cell_type": "code",
   "execution_count": 11,
   "id": "3ac1f4ca",
   "metadata": {},
   "outputs": [
    {
     "name": "stdout",
     "output_type": "stream",
     "text": [
      "вход: [-1000] [133.33333333333331]\n",
      "предсказания (х*7.5): [-7498.489] [999.81635]\n"
     ]
    }
   ],
   "source": [
    "# проверим обобщающую способность\n",
    "X_test = [[-1000], [(1+1/3)*100]]\n",
    "print('вход:', *X_test)\n",
    "print('предсказания (х*7.5):', *model.predict(scaler.transform(X_test), verbose=0))"
   ]
  },
  {
   "attachments": {
    "perc_2.png": {
     "image/png": "https://github.com/EvgenMorodze/DE_5.1-5.2_NN-CV_practice/blob/7e1b80aac1feee575f68f7c3a0a7a7edd931cba0/perc_2.png"
    }
   },
   "cell_type": "markdown",
   "id": "c64a3747",
   "metadata": {},
   "source": [
    "Модель работает достаточно сносно, хотя обучение и происходит гораздо медленнее линейной регрессии, тем не менее такова обобщающая способность лищь 1 нейрона с линейной функцией активации! Усложним сеть и используем её для нахождения суммы нескольких чисел (или других арифм. действий).\n",
    "\n",
    "### Нейронная сеть для арифметических действий.  \n",
    "\n",
    "Как стало понятно из примера выше, для улучшения обобщающей способности и увеличения скорости обучения, сеть можно несколько усложнить добавлением как нейронов в слоях так и добавлением непосредственно скрытых слоёв.  \n",
    "\n",
    "Проверим такое предположение на примере сети, изображенной ниже. Также будем учитывать, что последовательное соединение слоёв с линейной функцией активации равносильно линейной регрессии и можно подобное расширение \"оптимизировать\", избавившись от лишних слоёв.  \n",
    "\n",
    "![perc_2.png](attachment:https://github.com/EvgenMorodze/DE_5.1-5.2_NN-CV_practice/blob/7e1b80aac1feee575f68f7c3a0a7a7edd931cba0/perc_2.png)"
   ]
  },
  {
   "cell_type": "code",
   "execution_count": 12,
   "id": "7dc262f0",
   "metadata": {},
   "outputs": [
    {
     "name": "stdout",
     "output_type": "stream",
     "text": [
      "X_non_scaled:\n",
      " [[-41 -79]\n",
      " [-35  -7]\n",
      " [-30  64]\n",
      " [-50 -47]\n",
      " [ 94  39]] \n",
      "\n",
      "X_scaled:\n",
      " [[0.2513369  0.0984456 ]\n",
      " [0.28342246 0.47150259]\n",
      " [0.31016043 0.83937824]\n",
      " [0.20320856 0.2642487 ]\n",
      " [0.97326203 0.70984456]] \n",
      "\n",
      "y: [[-199]\n",
      " [ -49]\n",
      " [  98]\n",
      " [-144]\n",
      " [ 172]]\n"
     ]
    }
   ],
   "source": [
    "# данные для обучения\n",
    "X1 = np.array([[x] for x in rng.randint(-100, 100, 50)])\n",
    "X2 = np.array([[x] for x in rng.randint(-100, 100, 50)])\n",
    "X = np.hstack([X1,X2])\n",
    "\n",
    "y = np.array([x[0]+(x[1]*2) for x in X]).reshape(-1,1)#.ravel()\n",
    "\n",
    "# смасштабируем значения для сходимости решения сети\n",
    "X_norm = scaler.fit(X).transform(X)\n",
    "\n",
    "print('X_non_scaled:\\n', X[:5], '\\n\\nX_scaled:\\n', X_norm[:5], '\\n\\ny:', y[:5])"
   ]
  },
  {
   "cell_type": "code",
   "execution_count": 13,
   "id": "330b565f",
   "metadata": {},
   "outputs": [
    {
     "name": "stdout",
     "output_type": "stream",
     "text": [
      "Model: \"sequential_2\"\n",
      "_________________________________________________________________\n",
      " Layer (type)                Output Shape              Param #   \n",
      "=================================================================\n",
      " dense_2 (Dense)             (None, 3)                 9         \n",
      "                                                                 \n",
      " dense_3 (Dense)             (None, 1)                 4         \n",
      "                                                                 \n",
      "=================================================================\n",
      "Total params: 13\n",
      "Trainable params: 13\n",
      "Non-trainable params: 0\n",
      "_________________________________________________________________\n"
     ]
    }
   ],
   "source": [
    "# Скомпилируем модель с 1 скрытым слоем и обучим на выборке\n",
    "\n",
    "model = Sequential([\n",
    "    Dense(input_shape=(2,), units=3, activation='linear'),\n",
    "    Dense(units=1, activation='linear')   # можно не указывать input_shape\n",
    "])\n",
    "\n",
    "# выберем алгоритм Adam в качестве оптимизатора, т.к. sgd с настройками по умолчанию\n",
    "# часто не сходился на тренир. данных, а настраивать его пока не хотелось\n",
    "\n",
    "model.compile(optimizer='adam', loss='mse', metrics='mae')\n",
    "\n",
    "model.summary()"
   ]
  },
  {
   "cell_type": "code",
   "execution_count": 14,
   "id": "eb037983",
   "metadata": {},
   "outputs": [
    {
     "name": "stdout",
     "output_type": "stream",
     "text": [
      "Wall time: 24.9 s\n"
     ]
    },
    {
     "data": {
      "text/plain": [
       "<keras.callbacks.History at 0x2911f6fca30>"
      ]
     },
     "execution_count": 14,
     "metadata": {},
     "output_type": "execute_result"
    }
   ],
   "source": [
    "%%time\n",
    "# обучаемся\n",
    "model.fit(X_norm, y, epochs=7500, verbose=0, shuffle=True)"
   ]
  },
  {
   "cell_type": "code",
   "execution_count": 15,
   "id": "2f72363b",
   "metadata": {},
   "outputs": [
    {
     "name": "stdout",
     "output_type": "stream",
     "text": [
      "вход: [9800  100]\n",
      "предсказания (х[0]+2*x[1]): [10000.226]\n"
     ]
    }
   ],
   "source": [
    "# делаем проверку\n",
    "X_test = np.array([[9800, 100]])\n",
    "print('вход:', *X_test)\n",
    "print('предсказания (х[0]+2*x[1]):', *model.predict(scaler.transform(X_test), verbose=0))"
   ]
  },
  {
   "cell_type": "markdown",
   "id": "7ace279b",
   "metadata": {},
   "source": [
    "- Нейросеть с 1 скрытым полносвязным слоем достигла приемлемой обобщающей способности за 7500 эпох,\n",
    "\n",
    "- Рассмотрим вариант с большим кол-вом нейронов для улучшения способности к выделению закономерностей. Функции активации оставим всё также линейными т.к. предполагается поиск именно линейных закономерностей, а вот кол-во скрытых слоёв увеличивать не станем именно по этой причине."
   ]
  },
  {
   "cell_type": "code",
   "execution_count": 16,
   "id": "2f486306",
   "metadata": {
    "scrolled": true
   },
   "outputs": [
    {
     "name": "stdout",
     "output_type": "stream",
     "text": [
      "Wall time: 10.7 s\n"
     ]
    },
    {
     "data": {
      "text/plain": [
       "<keras.callbacks.History at 0x29120921f40>"
      ]
     },
     "execution_count": 16,
     "metadata": {},
     "output_type": "execute_result"
    }
   ],
   "source": [
    "%%time\n",
    "\n",
    "model = Sequential([\n",
    "    Dense(input_shape=(2,), units=20, activation='linear'),\n",
    "    Dense(units=1, activation='linear')\n",
    "])\n",
    "\n",
    "model.compile(optimizer='adam', loss='mse', metrics='mae')\n",
    "\n",
    "model.fit(X_norm, y, epochs=3000, verbose=0)"
   ]
  },
  {
   "cell_type": "code",
   "execution_count": 17,
   "id": "49fb1b8c",
   "metadata": {},
   "outputs": [
    {
     "name": "stdout",
     "output_type": "stream",
     "text": [
      "предсказания (х[0]+2*x[1]): [10027.452]\n"
     ]
    }
   ],
   "source": [
    "print('предсказания (х[0]+2*x[1]):', *model.predict(scaler.transform(X_test), verbose=0))"
   ]
  },
  {
   "cell_type": "markdown",
   "id": "332012e5",
   "metadata": {},
   "source": [
    "- При фиксированном количестве примеров (небольшом) нейронную сеть можно обучить либо на более простой архитектуре за большее количество эпох, либо на более разветвлённой, но за меньшее время. Здесь нужно искать компромисс, поскольку более сложная сеть может наоборот начать \"обучаться\" слишком медленно.  \n",
    "\n",
    "\n",
    "### Полносвязная сеть для нелинейной зависимости.  \n",
    "\n",
    "Рассмотрим также способности полносвязной сети выявлять более сложные и нелинейные закономерности в данных. Создадим сеть более сложной архитерктуры с различными функциями активации (нелинейными чтобы воспроизводить нелинейные зависимости), увеличив количество как обучающих примеров так и эпох, поскольку при \"недостатке\" того или иного параметра восстановить зависимости с приемлемой точностью у сети навряд ли получится.  \n",
    "\n",
    "Полезным и интересным опытом будет работа с батчевой обработкой примеров - `batch_size`, обратными вызовами библиотеки - `callbacks` и генераторами из соотв. разделов библиотеки. "
   ]
  },
  {
   "cell_type": "code",
   "execution_count": 18,
   "id": "a5a6558e",
   "metadata": {},
   "outputs": [
    {
     "name": "stdout",
     "output_type": "stream",
     "text": [
      "\n",
      "Epoch 33: ReduceLROnPlateau reducing learning rate to 0.05000000074505806.\n",
      "\n",
      "Epoch 46: ReduceLROnPlateau reducing learning rate to 0.02500000037252903.\n",
      "\n",
      "Epoch 52: ReduceLROnPlateau reducing learning rate to 0.012500000186264515.\n",
      "\n",
      "Epoch 58: ReduceLROnPlateau reducing learning rate to 0.0062500000931322575.\n",
      "\n",
      "Epoch 64: ReduceLROnPlateau reducing learning rate to 0.0031250000465661287.\n",
      "\n",
      "Epoch 70: ReduceLROnPlateau reducing learning rate to 0.0015625000232830644.\n",
      "\n",
      "Epoch 76: ReduceLROnPlateau reducing learning rate to 0.0007812500116415322.\n",
      "\n",
      "Epoch 82: ReduceLROnPlateau reducing learning rate to 0.0003906250058207661.\n",
      "\n",
      "Epoch 88: ReduceLROnPlateau reducing learning rate to 0.00019531250291038305.\n",
      "\n",
      "Epoch 94: ReduceLROnPlateau reducing learning rate to 9.765625145519152e-05.\n",
      "\n",
      "Epoch 100: ReduceLROnPlateau reducing learning rate to 4.882812572759576e-05.\n",
      "\n",
      "Epoch 106: ReduceLROnPlateau reducing learning rate to 2.441406286379788e-05.\n",
      "\n",
      "Epoch 112: ReduceLROnPlateau reducing learning rate to 1.220703143189894e-05.\n",
      "\n",
      "Epoch 118: ReduceLROnPlateau reducing learning rate to 6.10351571594947e-06.\n",
      "\n",
      "Epoch 124: ReduceLROnPlateau reducing learning rate to 3.051757857974735e-06.\n",
      "\n",
      "Epoch 130: ReduceLROnPlateau reducing learning rate to 1.5258789289873675e-06.\n",
      "\n",
      "Epoch 136: ReduceLROnPlateau reducing learning rate to 7.629394644936838e-07.\n",
      "\n",
      "Epoch 142: ReduceLROnPlateau reducing learning rate to 3.814697322468419e-07.\n",
      "\n",
      "Epoch 148: ReduceLROnPlateau reducing learning rate to 1.9073486612342094e-07.\n",
      "\n",
      "Epoch 154: ReduceLROnPlateau reducing learning rate to 9.536743306171047e-08.\n",
      "\n",
      "Epoch 160: ReduceLROnPlateau reducing learning rate to 4.7683716530855236e-08.\n",
      "Restoring model weights from the end of the best epoch: 61.\n",
      "Epoch 161: early stopping\n",
      "Wall time: 2.48 s\n"
     ]
    },
    {
     "data": {
      "text/plain": [
       "<keras.callbacks.History at 0x29121a56880>"
      ]
     },
     "execution_count": 18,
     "metadata": {},
     "output_type": "execute_result"
    }
   ],
   "source": [
    "%%time\n",
    "\n",
    "# данные для обучения\n",
    "X1 = np.array([[x] for x in rng.randint(-1000, 1000, 500)])\n",
    "X2 = np.array([[x] for x in rng.randint(-1000, 1000, 500)])\n",
    "X = np.hstack([X1,X2])\n",
    "\n",
    "y = np.array([(x[0]-123)+(x[1]**3) for x in X]).reshape(-1,1)#.T.ravel()\n",
    "\n",
    "# смасштабируем значения для сходимости решения\n",
    "X_norm = scaler.fit(X).transform(X)\n",
    "y_norm = (y - y.min(axis=0)) / (y.max(axis=0) - y.min(axis=0)) # \"y\" мы также масштабируем для сходимости\n",
    "\n",
    "## для использования кастомных функций активации импортируем ориг.функц-ии из backend\n",
    "## изменим функцию relu для имеющегося примера\n",
    "def alt_relu(x):\n",
    "    return K.relu(x, alpha=0.1)\n",
    "\n",
    "# создадим новую модель с несколькими скрытыми слоями с разной активацией\n",
    "model = Sequential([\n",
    "    Dense(units=50, activation=alt_relu),\n",
    "    Dense(units=50, activation=alt_relu), ## кастомная функц.активации\n",
    "    #Dense(units=100, activation='elu'),\n",
    "    Dense(units=50, activation='sigmoid'),\n",
    "    Dense(units=1, input_dim=50, activation='linear')\n",
    "])\n",
    "\n",
    "## для настройки оптимизатора импортируем соотв. обект\n",
    "adam = Adam(learning_rate=0.1)                               ## создаём оптимизатор\n",
    "\n",
    "model.compile(optimizer=adam, loss='mse', metrics='mae')   ## указываем оптимизатор\n",
    "\n",
    "## для настройки обратных вызовов импортируем соотв. обект\n",
    "## EarlyStopping позволяет выйти из обучения при достижении лучших результатов до конца\n",
    "## обучения и использовать модель с лучшим резуьтатом\n",
    "early_stopping = EarlyStopping(\n",
    "    monitor=\"mae\",   ## монитор отслеживающий метрику \n",
    "    min_delta=0.0001,\n",
    "    patience=100,   ## задержка перед выходом из обучения по лучшему результату\n",
    "    verbose=1,\n",
    "    mode=\"auto\",     ## режим монитора (loss - должен падать, метрика - улучшаться)\n",
    "    baseline=None,\n",
    "    restore_best_weights=True,   ## модель должна восстанавливаться с лучшими весами\n",
    "    start_from_epoch=0\n",
    ")\n",
    "\n",
    "## ReduceLROnPlateau позволяет уменьшать learning_rate при падении роста качества чтобы\n",
    "## скатываться в зоны оптимума поблизости на меньшем learning_rate\n",
    "reduce_lr = ReduceLROnPlateau(\n",
    "    monitor=\"loss\",\n",
    "    factor=0.5,\n",
    "    patience=5,\n",
    "    verbose=1,\n",
    "    mode=\"auto\",\n",
    "    min_delta=0.0001,\n",
    "    cooldown=2,\n",
    "    min_lr=1e-10\n",
    ")\n",
    "\n",
    "model.fit(X_norm, y_norm,\n",
    "            epochs=300,\n",
    "            #batch_size=64,\n",
    "            steps_per_epoch=10,\n",
    "            callbacks=[early_stopping, reduce_lr],   ## передаём callback в списке\n",
    "            verbose=0,\n",
    "            shuffle=True)"
   ]
  },
  {
   "cell_type": "code",
   "execution_count": 19,
   "id": "cbb2e16b",
   "metadata": {},
   "outputs": [
    {
     "name": "stdout",
     "output_type": "stream",
     "text": [
      "Cравним предсказания модели с истынм значением.\n",
      "Тестовые данные: (9800, 100)\n",
      "WARNING:tensorflow:5 out of the last 5 calls to <function Model.make_predict_function.<locals>.predict_function at 0x0000029121A7BF70> triggered tf.function retracing. Tracing is expensive and the excessive number of tracings could be due to (1) creating @tf.function repeatedly in a loop, (2) passing tensors with different shapes, (3) passing Python objects instead of tensors. For (1), please define your @tf.function outside of the loop. For (2), @tf.function has reduce_retracing=True option that can avoid unnecessary retracing. For (3), please refer to https://www.tensorflow.org/guide/function#controlling_retracing and https://www.tensorflow.org/api_docs/python/tf/function for  more details.\n",
      "Предсказание модели = [0.48313588]\n",
      "Истина (также смасштабированная) = 0.4944828326005991\n",
      "Model: \"sequential_4\"\n",
      "_________________________________________________________________\n",
      " Layer (type)                Output Shape              Param #   \n",
      "=================================================================\n",
      " dense_6 (Dense)             (None, 50)                150       \n",
      "                                                                 \n",
      " dense_7 (Dense)             (None, 50)                2550      \n",
      "                                                                 \n",
      " dense_8 (Dense)             (None, 50)                2550      \n",
      "                                                                 \n",
      " dense_9 (Dense)             (None, 1)                 51        \n",
      "                                                                 \n",
      "=================================================================\n",
      "Total params: 5,301\n",
      "Trainable params: 5,301\n",
      "Non-trainable params: 0\n",
      "_________________________________________________________________\n"
     ]
    }
   ],
   "source": [
    "# сравним предсказание модели с ground_truth\n",
    "X_test = np.array([[9800, 100]])\n",
    "\n",
    "print('Cравним предсказания модели с истынм значением.')\n",
    "print('Тестовые данные:', (X_test[0][0], X_test[0][1]))\n",
    "print('Предсказание модели =', *model.predict(scaler.transform(X_test), verbose=0))\n",
    "print('Истина (также смасштабированная) ='\n",
    "      , (((X_test[0][0]-123)+(X_test[0][1]**3)) - y.min()) / (y.max() - y.min()))\n",
    "\n",
    "model.summary()"
   ]
  },
  {
   "cell_type": "markdown",
   "id": "ec712c27",
   "metadata": {},
   "source": [
    "- Пример был взят не самый простой и удачный (**у** зависит от 2 параметров), поэтому результат долгое время получался также не лучший, но ошибку удалось значительно снизить при нормализации всех данных. С усложнениями архиектуры сети, привлечением методов деления выборки на батчи, обратных вызовов и др. манипуляций некоторый прогресс в работе над задачей был достигнут. Дальнейшие улучшения явно возможны, но в рамках учебной работы выполняться они не будут для сохранения возможности более комплексного исследования других тем.\n",
    "\n",
    "\n",
    "- Поскольку общеизвестных эффективных архитектур нейросетей для табличных и НЕ избыточных данных не существует, то для достаточно качественного обучения приходится проводить длительный этап обучения сети. Если закономерность не предполагается понятной заранее, то этот процесс характеризуется различной степенью усложнения сети: усложнения структуры, увеличения числа примеров и эпох обучения.  \n",
    "\n",
    "\n",
    "- Здесь вполне успешную конкуренцию нейро-сетевому подходу составляют классические ML-алгоритмы, при чём они скорее всего будут более эффективными. Однако именно широкая обобщающая способность нейронных сетей вызывает интерес для изучения.  \n",
    "\n",
    "\n",
    "## Классификация изображений нейронной сетью глубокого обучения.  \n",
    "\n",
    "Далее в небольшом приближении разберём возможности нейронных сетей при работе с изображениями на примерах наборов данных, встроенных в библиотеку `keras`.  \n",
    "\n",
    "Возможности сверточных слоёв, обучения на граф. ускорителях и др. приёмы и специфические архитектуры подробно не рассматривались и пока находятся за рамками исследования. В конечном счёте выполним пункты задания, завершив таким образом исследование.  \n",
    "\n",
    "\n",
    "### Подготовка набора данных.  \n",
    "\n",
    "Загрузим набор данных MNIST , рассмотрим разметку объектов и подготовим изображения для облечения обучаемости сети."
   ]
  },
  {
   "cell_type": "code",
   "execution_count": 20,
   "id": "c0b472ab",
   "metadata": {},
   "outputs": [
    {
     "data": {
      "text/plain": [
       "((60000, 28, 28), (10000, 28, 28))"
      ]
     },
     "execution_count": 20,
     "metadata": {},
     "output_type": "execute_result"
    }
   ],
   "source": [
    "# загрузим датасет из модуля библиотеки\n",
    "\n",
    "from keras.datasets import mnist\n",
    "\n",
    "(X_train, y_train), (X_test, y_test) = mnist.load_data()\n",
    "X_train.shape, X_test.shape"
   ]
  },
  {
   "cell_type": "code",
   "execution_count": 21,
   "id": "85ab1c3c",
   "metadata": {},
   "outputs": [
    {
     "data": {
      "text/plain": [
       "(28, 28)"
      ]
     },
     "execution_count": 21,
     "metadata": {},
     "output_type": "execute_result"
    }
   ],
   "source": [
    "# размеры изображения\n",
    "X_train[0].shape"
   ]
  },
  {
   "cell_type": "code",
   "execution_count": 22,
   "id": "3aff3f13",
   "metadata": {},
   "outputs": [
    {
     "name": "stdout",
     "output_type": "stream",
     "text": [
      "Пример размеченных изображений из датасета:\n"
     ]
    },
    {
     "data": {
      "image/png": "[encoded data removed]",
      "text/plain": [
       "<Figure size 1500x1000 with 5 Axes>"
      ]
     },
     "metadata": {},
     "output_type": "display_data"
    }
   ],
   "source": [
    "print('Пример размеченных изображений из датасета:')\n",
    "fig, ax = plt.subplots(1, 5, figsize=(15,10))\n",
    "for i in range(5):\n",
    "    ax[i].imshow(X_train[i+10], cmap='gray')\n",
    "    ax[i].axis('off')\n",
    "    ax[i].set_title(f'label: {y_train[i+10]}')"
   ]
  },
  {
   "cell_type": "code",
   "execution_count": 23,
   "id": "fd701dbe",
   "metadata": {},
   "outputs": [
    {
     "data": {
      "text/plain": [
       "((12665, 28, 28), (12665,))"
      ]
     },
     "execution_count": 23,
     "metadata": {},
     "output_type": "execute_result"
    }
   ],
   "source": [
    "# для упрощения сократим набор данных (для обуч. и тестовой выборки)\n",
    "idxs_2cl = np.where((y_train==0)|(y_train==1))\n",
    "y_train = y_train[idxs_2cl]\n",
    "X_train = X_train[idxs_2cl]\n",
    "X_train.shape, y_train.shape"
   ]
  },
  {
   "cell_type": "code",
   "execution_count": 24,
   "id": "513b778d",
   "metadata": {},
   "outputs": [
    {
     "data": {
      "text/plain": [
       "((2115, 28, 28), (2115,))"
      ]
     },
     "execution_count": 24,
     "metadata": {},
     "output_type": "execute_result"
    }
   ],
   "source": [
    "# для упрощения сократим набор данных (для обуч. и тестовой выборки)\n",
    "idxs_2cl = np.where((y_test==0)|(y_test==1))\n",
    "y_test = y_test[idxs_2cl]\n",
    "X_test = X_test[idxs_2cl]\n",
    "X_test.shape, y_test.shape"
   ]
  },
  {
   "cell_type": "code",
   "execution_count": 25,
   "id": "ea8ce4d9",
   "metadata": {},
   "outputs": [
    {
     "name": "stdout",
     "output_type": "stream",
     "text": [
      "Пример изображений выбранных классов (0 и 1) из датасета:\n"
     ]
    },
    {
     "data": {
      "image/png": "[encoded data removed]",
      "text/plain": [
       "<Figure size 1500x1000 with 5 Axes>"
      ]
     },
     "metadata": {},
     "output_type": "display_data"
    }
   ],
   "source": [
    "print('Пример изображений выбранных классов (0 и 1) из датасета:')\n",
    "fig, ax = plt.subplots(1, 5, figsize=(15,10))\n",
    "for i in range(5):\n",
    "    ax[i].imshow(X_train[i+10], cmap='gray')\n",
    "    ax[i].axis('off')\n",
    "    ax[i].set_title(y_train[i+10])"
   ]
  },
  {
   "cell_type": "markdown",
   "id": "0528a67c",
   "metadata": {},
   "source": [
    "- Как говорилось выше данные надлежит нормировать, но в случае изображений сделаем это без `MinMaxScaler`, воспользуемся делением на 255, т.к. изображения представлены пикселями со значением яркости в диапазоне от 0 до 255. В итоге нейросеть будет обучаться на значениях в диапазоне от 0 до 1."
   ]
  },
  {
   "cell_type": "code",
   "execution_count": 26,
   "id": "7398ad63",
   "metadata": {},
   "outputs": [],
   "source": [
    "# нормируем значения яркости на 255\n",
    "X_train = X_train/255\n",
    "X_test = X_test/255"
   ]
  },
  {
   "cell_type": "markdown",
   "id": "fb6f23ad",
   "metadata": {},
   "source": [
    "- В обуч. материалах предлагается видоизменять метки класса с помощью прямого кодирования. Значения 0 или 1, можно преобразовать в бинарный вид. Тем самым получаем 2 столбика, где первый - это метка является ли изображение 0 классом, а второй столбик - является ли изображение 1 классом."
   ]
  },
  {
   "cell_type": "code",
   "execution_count": 27,
   "id": "c086bee4",
   "metadata": {},
   "outputs": [
    {
     "data": {
      "text/plain": [
       "(array([0, 1, 1, 1, 1], dtype=uint8),\n",
       " array([[1., 0.],\n",
       "        [0., 1.],\n",
       "        [0., 1.],\n",
       "        [0., 1.],\n",
       "        [0., 1.]], dtype=float32))"
      ]
     },
     "execution_count": 27,
     "metadata": {},
     "output_type": "execute_result"
    }
   ],
   "source": [
    "# преобразуем метки классов методами библиотеки keras (без OHE из sklearn)\n",
    "from keras.utils.np_utils import to_categorical\n",
    "\n",
    "y_train_cat = to_categorical(y_train)\n",
    "y_test_cat = to_categorical(y_test)\n",
    "\n",
    "y_train[:5], y_train_cat[:5]"
   ]
  },
  {
   "cell_type": "markdown",
   "id": "67d78364",
   "metadata": {},
   "source": [
    "- Также поменяем разрешение изображений из набора данных, уменьшив их с 28х28, до 6х6, чтобы быстрее обучать нейросеть."
   ]
  },
  {
   "cell_type": "code",
   "execution_count": 28,
   "id": "36aaa150",
   "metadata": {},
   "outputs": [
    {
     "data": {
      "image/png": "[encoded data removed]",
      "text/plain": [
       "<Figure size 1500x1000 with 5 Axes>"
      ]
     },
     "metadata": {},
     "output_type": "display_data"
    }
   ],
   "source": [
    "# сожмём изображения и проверим результаты\n",
    "\n",
    "## X_train[..., np.newaxis] - создаёт фиктивный канал в тензоре изображения\n",
    "## чтобы корректно сжать его до 6*6\n",
    "## \"...[..., 0]\" сбрасывает канал делая тензор прежней размерности\n",
    "\n",
    "X_train_resized = tf.image.resize(X_train[..., np.newaxis], (6, 6))[..., 0]\n",
    "X_test_resized = tf.image.resize(X_test[..., np.newaxis], (6, 6))[..., 0]\n",
    "\n",
    "fig, ax = plt.subplots(1, 5, figsize=(15, 10))\n",
    "\n",
    "for i in range(5):\n",
    "    ax[i].imshow(X_train_resized[i], cmap='gray')\n",
    "    ax[i].axis('off')\n",
    "    ax[i].set_title(y_train[i])"
   ]
  },
  {
   "attachments": {
    "perc_img.png": {
     "image/png": "https://github.com/EvgenMorodze/DE_5.1-5.2_NN-CV_practice/blob/7e1b80aac1feee575f68f7c3a0a7a7edd931cba0/perc_img.png"
    }
   },
   "cell_type": "markdown",
   "id": "0ddd4535",
   "metadata": {},
   "source": [
    "### Модели бинарной классификаций изображений (нейросетевые + ML-baseline).  \n",
    "\n",
    "Подготовив таким образом изображения, приступим к обучению сети. Построим архитектуру сети, выберем оптимизатор, функцию активации и функцию потерь, настроим кол-во эпох обучения:  \n",
    "\n",
    "![perc_img.png](attachment:https://github.com/EvgenMorodze/DE_5.1-5.2_NN-CV_practice/blob/7e1b80aac1feee575f68f7c3a0a7a7edd931cba0/perc_img.png)\n",
    "\n",
    "   1. На вход будут подаваться изображения 6х6, которые нужно разложить в вектор (1,36) (пока работать с двумерным входом мы не станем). Этого можно достичь, добавив слой `Flatten` в объект `Sequential`, который вытягивает изображение в один вектор.\n",
    "\n",
    "   2. Выходов из сети должно быть 2. Т.е. 2 нейрона, отображающих две вероятности: быть или не быть определенным классом.  \n",
    "    \n",
    "   3. На выходном слое используем функцию активации **sigmoid**, поскольку стоит задача бинарной классификации.  \n",
    "    \n",
    "   4. Для задачи бинарной классификации функция потерь также будет отличной от **MSE**, в данном примере подходит бинарная кросс-энтропия.  \n",
    "    \n",
    "   5. В качестве метрики качества классификации возьмём более понятную для восприятия **accuracy**."
   ]
  },
  {
   "cell_type": "code",
   "execution_count": 29,
   "id": "2a4aad8b",
   "metadata": {},
   "outputs": [
    {
     "name": "stdout",
     "output_type": "stream",
     "text": [
      "Model: \"sequential_5\"\n",
      "_________________________________________________________________\n",
      " Layer (type)                Output Shape              Param #   \n",
      "=================================================================\n",
      " flatten (Flatten)           (None, 36)                0         \n",
      "                                                                 \n",
      " dense_10 (Dense)            (None, 2)                 74        \n",
      "                                                                 \n",
      "=================================================================\n",
      "Total params: 74\n",
      "Trainable params: 74\n",
      "Non-trainable params: 0\n",
      "_________________________________________________________________\n"
     ]
    }
   ],
   "source": [
    "# сконструируем и скомпилируем сеть\n",
    "model = Sequential([\n",
    "    Flatten(input_shape=(6, 6)),\n",
    "    Dense(2, activation='sigmoid')\n",
    "])\n",
    "\n",
    "model.compile(optimizer='adam', loss='binary_crossentropy', metrics='accuracy')\n",
    "\n",
    "# выведем информацию по сети\n",
    "model.summary()"
   ]
  },
  {
   "cell_type": "markdown",
   "id": "903ea8d9",
   "metadata": {},
   "source": [
    "Количество весов для нахождения градиентным спуском = для каждого (из двух) нейрона - 36 входов, плюс 1 свободный вес = (36 + 1) * 2 = 74."
   ]
  },
  {
   "cell_type": "code",
   "execution_count": 30,
   "id": "aab578cc",
   "metadata": {},
   "outputs": [
    {
     "name": "stdout",
     "output_type": "stream",
     "text": [
      "Wall time: 18.3 s\n"
     ]
    },
    {
     "data": {
      "text/plain": [
       "<keras.callbacks.History at 0x29122cd4700>"
      ]
     },
     "execution_count": 30,
     "metadata": {},
     "output_type": "execute_result"
    }
   ],
   "source": [
    "%%time\n",
    "# обучим скомпилированную нейросеть с указанием тестовой выборки, \n",
    "# чтобы сразу иметь возможность видеть процесс обучения без послед. проверки на тесте,\n",
    "# укажем кол-во батчей/шагов за эпоху, а также выбранные callback-и\n",
    "\n",
    "## задаем новый EarlyStopping\n",
    "early_stopping_pic = EarlyStopping(\n",
    "    monitor=\"val_loss\",   ## монитор, отслеживающий метрику на валидации \n",
    "    min_delta=0.001,\n",
    "    patience=10,     ## задержка перед выходом из обучения по лучшему результату\n",
    "    verbose=1,\n",
    "    mode=\"auto\",     ## режим монитора (loss - должен падать, метрика - улучшаться)\n",
    "    baseline=None,\n",
    "    restore_best_weights=True,   ## модель должна восстанавливаться с лучшими весами\n",
    "    start_from_epoch=0,\n",
    ")\n",
    "\n",
    "## задаем новый ReduceLROnPlateau\n",
    "reduce_lr_pic = ReduceLROnPlateau(\n",
    "    monitor=\"val_loss\",\n",
    "    factor=0.5,\n",
    "    patience=10,\n",
    "    verbose=1,\n",
    "    mode=\"auto\",\n",
    "    min_delta=0.0001,\n",
    "    cooldown=2,\n",
    "    min_lr=1e-10\n",
    ")\n",
    "\n",
    "model.fit(X_train_resized, y_train_cat,\n",
    "          validation_data=(X_test_resized, y_test_cat),\n",
    "          epochs=100,\n",
    "          #batch_size=64,\n",
    "          steps_per_epoch=100,\n",
    "          callbacks=[early_stopping_pic, reduce_lr_pic],     ## передаём callback\n",
    "          shuffle=True,\n",
    "          verbose=0)"
   ]
  },
  {
   "cell_type": "markdown",
   "id": "136d6e28",
   "metadata": {},
   "source": [
    "На выходе модель выдаёт 2 вероятности: быть нулевым или первым классом - какая из них больше, тот класс объекту и будет присваиваться. В данном случае классы совпадают с метками объектов. Проверим результаты обучения модели как на конкретном примере изображения, так и на всей тестовой выборке."
   ]
  },
  {
   "cell_type": "code",
   "execution_count": 31,
   "id": "b2f52053",
   "metadata": {},
   "outputs": [
    {
     "name": "stdout",
     "output_type": "stream",
     "text": [
      "WARNING:tensorflow:6 out of the last 6 calls to <function Model.make_predict_function.<locals>.predict_function at 0x00000291233B80D0> triggered tf.function retracing. Tracing is expensive and the excessive number of tracings could be due to (1) creating @tf.function repeatedly in a loop, (2) passing tensors with different shapes, (3) passing Python objects instead of tensors. For (1), please define your @tf.function outside of the loop. For (2), @tf.function has reduce_retracing=True option that can avoid unnecessary retracing. For (3), please refer to https://www.tensorflow.org/guide/function#controlling_retracing and https://www.tensorflow.org/api_docs/python/tf/function for  more details.\n",
      "1/1 [==============================] - 0s 38ms/step\n",
      "Предсказание нейронной сети на объекте №10:  [0.00784873 0.9913934 ]\n",
      "Таким образом предсказанный класс объекта №10: 1\n",
      "Рассмотрим непосредственно избражения, соотв. объекту №10.\n"
     ]
    },
    {
     "data": {
      "image/png": "[encoded data removed]",
      "text/plain": [
       "<Figure size 800x1000 with 2 Axes>"
      ]
     },
     "metadata": {},
     "output_type": "display_data"
    }
   ],
   "source": [
    "pred = model.predict(X_test_resized[9:10])\n",
    "print(\"Предсказание нейронной сети на объекте №10: \", *pred)\n",
    "\n",
    "pred_cls = pred.argmax()\n",
    "print(\"Таким образом предсказанный класс объекта №10:\", pred_cls)\n",
    "\n",
    "print(\"Рассмотрим непосредственно избражения, соотв. объекту №10.\")\n",
    "idx = 9\n",
    "fig, ax = plt.subplots(1, 2, figsize=(8,10))\n",
    "ax[0].imshow(X_test_resized[idx])\n",
    "ax[0].axis('off')\n",
    "ax[0].set_title(\n",
    "    f'Сжатое изображение\\npredicted_class: {pred_cls}, true_class: {y_test[idx]}'\n",
    "    , fontsize=10\n",
    ")\n",
    "\n",
    "ax[1].imshow(X_test[idx])\n",
    "ax[1].axis('off')\n",
    "ax[1].set_title(\n",
    "    f'Исходное изображение\\npredicted_class: {pred_cls}, true_class: {y_test[idx]}'\n",
    "    , fontsize=10\n",
    ")\n",
    "plt.show()"
   ]
  },
  {
   "cell_type": "code",
   "execution_count": 32,
   "id": "c8250036",
   "metadata": {},
   "outputs": [
    {
     "name": "stdout",
     "output_type": "stream",
     "text": [
      "67/67 [==============================] - 0s 770us/step\n",
      "\n",
      "Матрица ошибок классификации (на тестовой выборке) с порогом 0,5:\n"
     ]
    },
    {
     "data": {
      "image/png": "[encoded data removed]",
      "text/plain": [
       "<Figure size 640x480 with 2 Axes>"
      ]
     },
     "metadata": {},
     "output_type": "display_data"
    }
   ],
   "source": [
    "## выведем матрицу ошибок классификации (отчёт выведем в итоговом примере)\n",
    "\n",
    "# classification_report\n",
    "y_true = y_test\n",
    "y_pred = model.predict(X_test_resized)[:,1] > 0.5   # можно было через np.where() сделать\n",
    "\n",
    "# матрица ошибок\n",
    "print('\\nМатрица ошибок классификации (на тестовой выборке) с порогом 0,5:')\n",
    "ConfusionMatrixDisplay(confusion_matrix(y_true, y_pred)).plot()                             \n",
    "plt.show()"
   ]
  },
  {
   "cell_type": "code",
   "execution_count": 33,
   "id": "42555b3b",
   "metadata": {},
   "outputs": [
    {
     "name": "stdout",
     "output_type": "stream",
     "text": [
      "Отчёт классификации:\n"
     ]
    },
    {
     "data": {
      "text/html": [
       "<div>\n",
       "<style scoped>\n",
       "    .dataframe tbody tr th:only-of-type {\n",
       "        vertical-align: middle;\n",
       "    }\n",
       "\n",
       "    .dataframe tbody tr th {\n",
       "        vertical-align: top;\n",
       "    }\n",
       "\n",
       "    .dataframe thead th {\n",
       "        text-align: right;\n",
       "    }\n",
       "</style>\n",
       "<table border=\"1\" class=\"dataframe\">\n",
       "  <thead>\n",
       "    <tr style=\"text-align: right;\">\n",
       "      <th></th>\n",
       "      <th>precision</th>\n",
       "      <th>recall</th>\n",
       "      <th>f1-score</th>\n",
       "      <th>support</th>\n",
       "    </tr>\n",
       "  </thead>\n",
       "  <tbody>\n",
       "    <tr>\n",
       "      <th>0</th>\n",
       "      <td>0.9928</td>\n",
       "      <td>0.9878</td>\n",
       "      <td>0.9903</td>\n",
       "      <td>980.000</td>\n",
       "    </tr>\n",
       "    <tr>\n",
       "      <th>1</th>\n",
       "      <td>0.9895</td>\n",
       "      <td>0.9938</td>\n",
       "      <td>0.9916</td>\n",
       "      <td>1135.000</td>\n",
       "    </tr>\n",
       "    <tr>\n",
       "      <th>accuracy</th>\n",
       "      <td>0.9910</td>\n",
       "      <td>0.9910</td>\n",
       "      <td>0.9910</td>\n",
       "      <td>0.991</td>\n",
       "    </tr>\n",
       "    <tr>\n",
       "      <th>macro avg</th>\n",
       "      <td>0.9911</td>\n",
       "      <td>0.9908</td>\n",
       "      <td>0.9910</td>\n",
       "      <td>2115.000</td>\n",
       "    </tr>\n",
       "    <tr>\n",
       "      <th>weighted avg</th>\n",
       "      <td>0.9910</td>\n",
       "      <td>0.9910</td>\n",
       "      <td>0.9910</td>\n",
       "      <td>2115.000</td>\n",
       "    </tr>\n",
       "  </tbody>\n",
       "</table>\n",
       "</div>"
      ],
      "text/plain": [
       "              precision  recall  f1-score   support\n",
       "0                0.9928  0.9878    0.9903   980.000\n",
       "1                0.9895  0.9938    0.9916  1135.000\n",
       "accuracy         0.9910  0.9910    0.9910     0.991\n",
       "macro avg        0.9911  0.9908    0.9910  2115.000\n",
       "weighted avg     0.9910  0.9910    0.9910  2115.000"
      ]
     },
     "execution_count": 33,
     "metadata": {},
     "output_type": "execute_result"
    }
   ],
   "source": [
    "# отчёт классификации\n",
    "\n",
    "print('Отчёт классификации:')\n",
    "report = classification_report(y_true, y_pred, digits=4, output_dict=True)\n",
    "pd.DataFrame(report).round(4).transpose()"
   ]
  },
  {
   "cell_type": "markdown",
   "id": "1db29296",
   "metadata": {},
   "source": [
    "* Задача классификации изображений на 2 класса была решена довольно успешно. В результате этапов предобработки и подготовки данных сеть обучилась быстро.  \n",
    "\n",
    "\n",
    "#### Baseline on SKLearn LogisticRegression.  \n",
    "\n",
    "Любопытно будет обратиться к результатам классификации, построенной на алгоритме логистической регрессии из библиотеки `sklearn` как к некоему **baseline** для сравнения и оценки эффективности работы алгоритмов. Её использование вполне уместно, поскольку количество объектов обучающей выборке не слишком огромно и при использовании сжатых изображений кол-во признаков также не будет вызывать тревогу за возможность обучить модель."
   ]
  },
  {
   "cell_type": "code",
   "execution_count": 34,
   "id": "c1ba5e78",
   "metadata": {
    "scrolled": true
   },
   "outputs": [
    {
     "name": "stdout",
     "output_type": "stream",
     "text": [
      "Нормировнные значения яркости пикселей изображения в качестве признаков для обучения:\n"
     ]
    },
    {
     "data": {
      "text/html": [
       "<div>\n",
       "<style scoped>\n",
       "    .dataframe tbody tr th:only-of-type {\n",
       "        vertical-align: middle;\n",
       "    }\n",
       "\n",
       "    .dataframe tbody tr th {\n",
       "        vertical-align: top;\n",
       "    }\n",
       "\n",
       "    .dataframe thead th {\n",
       "        text-align: right;\n",
       "    }\n",
       "</style>\n",
       "<table border=\"1\" class=\"dataframe\">\n",
       "  <thead>\n",
       "    <tr style=\"text-align: right;\">\n",
       "      <th></th>\n",
       "      <th>0</th>\n",
       "      <th>1</th>\n",
       "      <th>2</th>\n",
       "      <th>3</th>\n",
       "      <th>4</th>\n",
       "      <th>5</th>\n",
       "      <th>6</th>\n",
       "      <th>7</th>\n",
       "      <th>8</th>\n",
       "      <th>9</th>\n",
       "      <th>...</th>\n",
       "      <th>26</th>\n",
       "      <th>27</th>\n",
       "      <th>28</th>\n",
       "      <th>29</th>\n",
       "      <th>30</th>\n",
       "      <th>31</th>\n",
       "      <th>32</th>\n",
       "      <th>33</th>\n",
       "      <th>34</th>\n",
       "      <th>35</th>\n",
       "    </tr>\n",
       "  </thead>\n",
       "  <tbody>\n",
       "    <tr>\n",
       "      <th>456</th>\n",
       "      <td>0.0</td>\n",
       "      <td>0.0</td>\n",
       "      <td>0.0</td>\n",
       "      <td>0.0</td>\n",
       "      <td>0.0</td>\n",
       "      <td>0.0</td>\n",
       "      <td>0.0</td>\n",
       "      <td>0.000000</td>\n",
       "      <td>0.000000</td>\n",
       "      <td>0.115687</td>\n",
       "      <td>...</td>\n",
       "      <td>0.043791</td>\n",
       "      <td>0.115687</td>\n",
       "      <td>0.000000</td>\n",
       "      <td>0.0</td>\n",
       "      <td>0.0</td>\n",
       "      <td>0.0</td>\n",
       "      <td>0.0</td>\n",
       "      <td>0.0</td>\n",
       "      <td>0.0</td>\n",
       "      <td>0.0</td>\n",
       "    </tr>\n",
       "    <tr>\n",
       "      <th>11318</th>\n",
       "      <td>0.0</td>\n",
       "      <td>0.0</td>\n",
       "      <td>0.0</td>\n",
       "      <td>0.0</td>\n",
       "      <td>0.0</td>\n",
       "      <td>0.0</td>\n",
       "      <td>0.0</td>\n",
       "      <td>0.000000</td>\n",
       "      <td>0.000000</td>\n",
       "      <td>0.584640</td>\n",
       "      <td>...</td>\n",
       "      <td>0.974510</td>\n",
       "      <td>0.000000</td>\n",
       "      <td>0.000000</td>\n",
       "      <td>0.0</td>\n",
       "      <td>0.0</td>\n",
       "      <td>0.0</td>\n",
       "      <td>0.0</td>\n",
       "      <td>0.0</td>\n",
       "      <td>0.0</td>\n",
       "      <td>0.0</td>\n",
       "    </tr>\n",
       "    <tr>\n",
       "      <th>9744</th>\n",
       "      <td>0.0</td>\n",
       "      <td>0.0</td>\n",
       "      <td>0.0</td>\n",
       "      <td>0.0</td>\n",
       "      <td>0.0</td>\n",
       "      <td>0.0</td>\n",
       "      <td>0.0</td>\n",
       "      <td>0.103922</td>\n",
       "      <td>0.992157</td>\n",
       "      <td>0.863726</td>\n",
       "      <td>...</td>\n",
       "      <td>0.992157</td>\n",
       "      <td>0.992157</td>\n",
       "      <td>0.415686</td>\n",
       "      <td>0.0</td>\n",
       "      <td>0.0</td>\n",
       "      <td>0.0</td>\n",
       "      <td>0.0</td>\n",
       "      <td>0.0</td>\n",
       "      <td>0.0</td>\n",
       "      <td>0.0</td>\n",
       "    </tr>\n",
       "  </tbody>\n",
       "</table>\n",
       "<p>3 rows × 36 columns</p>\n",
       "</div>"
      ],
      "text/plain": [
       "        0    1    2    3    4    5    6         7         8         9   ...  \\\n",
       "456    0.0  0.0  0.0  0.0  0.0  0.0  0.0  0.000000  0.000000  0.115687  ...   \n",
       "11318  0.0  0.0  0.0  0.0  0.0  0.0  0.0  0.000000  0.000000  0.584640  ...   \n",
       "9744   0.0  0.0  0.0  0.0  0.0  0.0  0.0  0.103922  0.992157  0.863726  ...   \n",
       "\n",
       "             26        27        28   29   30   31   32   33   34   35  \n",
       "456    0.043791  0.115687  0.000000  0.0  0.0  0.0  0.0  0.0  0.0  0.0  \n",
       "11318  0.974510  0.000000  0.000000  0.0  0.0  0.0  0.0  0.0  0.0  0.0  \n",
       "9744   0.992157  0.992157  0.415686  0.0  0.0  0.0  0.0  0.0  0.0  0.0  \n",
       "\n",
       "[3 rows x 36 columns]"
      ]
     },
     "metadata": {},
     "output_type": "display_data"
    },
    {
     "name": "stdout",
     "output_type": "stream",
     "text": [
      "Размеры выборок для обученичения:\n",
      "(12665, 36) (12665,) ((2115, 36), (2115,)) \n",
      "\n",
      "Fitting 4 folds for each of 20 candidates, totalling 80 fits\n",
      "\n",
      "Логистическая регрессия\n",
      "\n",
      "- Лучший accuracy_score =  0.99029\n",
      "- Лучшие параметры:\n",
      "\t {'solver': 'saga', 'penalty': 'l2', 'max_iter': 5000, 'class_weight': 'balanced', 'C': 25.263157894736842}\n",
      "- Лучшая модель:\n",
      "\t доступна из \"LR_clf.best_estimator_\"\n",
      "\n",
      "Wall time: 52.3 s\n"
     ]
    }
   ],
   "source": [
    "%%time\n",
    "# создадим из наборов уменьшенных изображений набор данных для обучения логистич.регресси\n",
    "\n",
    "train_data = pd.DataFrame(data=np.reshape(X_train_resized,(len(X_train_resized),-1,1))[...,0])\n",
    "test_data = pd.DataFrame(data=np.reshape(X_test_resized,(len(X_test_resized),-1,1))[...,0])\n",
    "print('Нормировнные значения яркости пикселей изображения в качестве признаков для обучения:')\n",
    "display(train_data.sample(3))\n",
    "\n",
    "# выбираем индексы объектов, отн. к классам 1 и 0\n",
    "train_idxs_2cl = np.where((y_train==0)|(y_train==1))\n",
    "test_idxs_2cl = np.where((y_test==0)|(y_test==1))\n",
    "\n",
    "# по полученным индексам строим соотв. наборы признаков (обучение и тест) \n",
    "y_train_2cl = y_train[train_idxs_2cl]\n",
    "X_train_2cl = train_data.iloc[train_idxs_2cl]\n",
    "\n",
    "y_test_2cl = y_test[test_idxs_2cl]\n",
    "X_test_2cl = test_data.iloc[test_idxs_2cl]\n",
    "\n",
    "print('Размеры выборок для обученичения:')\n",
    "print(*(X_train_2cl.shape, y_train_2cl.shape), (X_test_2cl.shape, y_test_2cl.shape), '\\n')\n",
    "\n",
    "# инициализация модели\n",
    "model_LR = LogisticRegression(random_state=606)\n",
    "\n",
    "# обучение модели с кросс-валидацией с подбором гиперпараметров по сетке (неподробно, близко к дефолтным)\n",
    "\n",
    "## Pipeline с предобработкой не требуется, значения яркости уже нормированы\n",
    "## выполним поиск лучших гиперпарметров по сетке с кросс-валидацией\n",
    "\n",
    "grid = {\n",
    "    'penalty': ['l2'], #['l1', 'l2'],\n",
    "    'C': np.linspace(20, 40, 20), #[*np.linspace(0.0001, 1, 50), *np.linspace(10, 100000, 50)],\n",
    "    'max_iter': [5000],\n",
    "    'class_weight': ['balanced'],\n",
    "    'solver': ['saga']\n",
    "}\n",
    "\n",
    "LR_clf = RandomizedSearchCV(\n",
    "    model_LR,\n",
    "    param_distributions=grid,\n",
    "    random_state=606,\n",
    "    n_iter=20,\n",
    "    scoring='accuracy',\n",
    "    verbose=2,\n",
    "    n_jobs=-1,\n",
    "    cv=4\n",
    ")\n",
    "\n",
    "LR_clf.fit(X_train_2cl, y_train_2cl)\n",
    "\n",
    "# выведем результаты на экран:\n",
    "print('\\nЛогистическая регрессия\\n')\n",
    "print('- Лучший accuracy_score = ', LR_clf.best_score_.round(5))\n",
    "print('- Лучшие параметры:\\n\\t', {str(i):LR_clf.best_params_.get(i) for i in LR_clf.best_params_})\n",
    "print('- Лучшая модель:\\n\\t доступна из \"LR_clf.best_estimator_\"\\n')"
   ]
  },
  {
   "cell_type": "code",
   "execution_count": 35,
   "id": "a6ff827e",
   "metadata": {},
   "outputs": [
    {
     "name": "stdout",
     "output_type": "stream",
     "text": [
      "Отчёт классификации:\n"
     ]
    },
    {
     "data": {
      "text/html": [
       "<div>\n",
       "<style scoped>\n",
       "    .dataframe tbody tr th:only-of-type {\n",
       "        vertical-align: middle;\n",
       "    }\n",
       "\n",
       "    .dataframe tbody tr th {\n",
       "        vertical-align: top;\n",
       "    }\n",
       "\n",
       "    .dataframe thead th {\n",
       "        text-align: right;\n",
       "    }\n",
       "</style>\n",
       "<table border=\"1\" class=\"dataframe\">\n",
       "  <thead>\n",
       "    <tr style=\"text-align: right;\">\n",
       "      <th></th>\n",
       "      <th>precision</th>\n",
       "      <th>recall</th>\n",
       "      <th>f1-score</th>\n",
       "      <th>support</th>\n",
       "    </tr>\n",
       "  </thead>\n",
       "  <tbody>\n",
       "    <tr>\n",
       "      <th>0</th>\n",
       "      <td>0.9878</td>\n",
       "      <td>0.9898</td>\n",
       "      <td>0.9888</td>\n",
       "      <td>980.0000</td>\n",
       "    </tr>\n",
       "    <tr>\n",
       "      <th>1</th>\n",
       "      <td>0.9912</td>\n",
       "      <td>0.9894</td>\n",
       "      <td>0.9903</td>\n",
       "      <td>1135.0000</td>\n",
       "    </tr>\n",
       "    <tr>\n",
       "      <th>accuracy</th>\n",
       "      <td>0.9896</td>\n",
       "      <td>0.9896</td>\n",
       "      <td>0.9896</td>\n",
       "      <td>0.9896</td>\n",
       "    </tr>\n",
       "    <tr>\n",
       "      <th>macro avg</th>\n",
       "      <td>0.9895</td>\n",
       "      <td>0.9896</td>\n",
       "      <td>0.9895</td>\n",
       "      <td>2115.0000</td>\n",
       "    </tr>\n",
       "    <tr>\n",
       "      <th>weighted avg</th>\n",
       "      <td>0.9896</td>\n",
       "      <td>0.9896</td>\n",
       "      <td>0.9896</td>\n",
       "      <td>2115.0000</td>\n",
       "    </tr>\n",
       "  </tbody>\n",
       "</table>\n",
       "</div>"
      ],
      "text/plain": [
       "              precision  recall  f1-score    support\n",
       "0                0.9878  0.9898    0.9888   980.0000\n",
       "1                0.9912  0.9894    0.9903  1135.0000\n",
       "accuracy         0.9896  0.9896    0.9896     0.9896\n",
       "macro avg        0.9895  0.9896    0.9895  2115.0000\n",
       "weighted avg     0.9896  0.9896    0.9896  2115.0000"
      ]
     },
     "execution_count": 35,
     "metadata": {},
     "output_type": "execute_result"
    }
   ],
   "source": [
    "# отчёт классификации\n",
    "print('Отчёт классификации:')\n",
    "report = classification_report(\n",
    "                                y_test_2cl\n",
    "                                , LR_clf.best_estimator_.predict(X_test_2cl)\n",
    "                                , digits=4, output_dict=True\n",
    ")\n",
    "\n",
    "pd.DataFrame(report).round(4).transpose()"
   ]
  },
  {
   "cell_type": "markdown",
   "id": "9ea3adf9",
   "metadata": {},
   "source": [
    "* Логистическая регрессия даже без подбора гиперпараметров на двухклассовой классификации довольно быстро достигает эффективности приведённой выше нейросети, вплотную приближаясь к ней, регуляризация помогает ещё несколько сблизить значения метрик на тестовой выборке. Учитывая скорость, с которй обучется логистическая регрессия, могут рождаться вопросы в отношении целесообразности использования перцептрона НЕспециализированной архитектуры для предсказаний, но выбор в любом случае останется за исследователем.  \n",
    "\n",
    "### Модели мультиклассовой классификации изображений (10 классов, нейросетевые + ML-baseline).  \n",
    "\n",
    "Расширим область действия, измененив модель, построенную выше в целях решения следующих задач:  \n",
    "\n",
    "- увеличение количества скрытых слоев,  \n",
    "- количество нейронов подставлять через массив, подаваемый при инициализации класса модели (не совсем понятен смысл этого действия, выполнять его в данном решении не стал, как это сделать в целом ясно),  \n",
    "- добавить dropout=0.3 до первого скрытого слоя (вероятность выпадения нейрона в слое, путём зануления его веса). В целом этот приём может как оказать полезный эфект на обобщающую способноть модели за счёт более равномерного распределения весов, так и ничего принципиально не изменить, что можно буде понять на практике. Для реализации в библиотеке предусмотрен соотв. объект слоя.\n",
    "- Показать, как изменения сети влияют на результат работы модели на тестовой выборке. В данном пункте удобнее всего будет указать на необходимость разбиения выборки на 2 части в атрибуте `validation_split` метода `fit()` и отслеживать изменение функции потерь и метрики на тренировочной и тестовой выборках по выводимому логу.    \n",
    "- Посчитать метрики классификации через `classification report` (sklearn) для каждого класса."
   ]
  },
  {
   "cell_type": "code",
   "execution_count": 36,
   "id": "3a90d98d",
   "metadata": {},
   "outputs": [
    {
     "name": "stdout",
     "output_type": "stream",
     "text": [
      "1. Загрузим датасет, оценим размеры выборок.\n",
      "\n",
      "X_train.shape: (60000, 28, 28)  X_test.shape: (10000, 28, 28)\n",
      "\n",
      "Пример размеченных изображений из датасета:\n"
     ]
    },
    {
     "data": {
      "image/png": "[encoded data removed]",
      "text/plain": [
       "<Figure size 1500x1000 with 5 Axes>"
      ]
     },
     "metadata": {},
     "output_type": "display_data"
    },
    {
     "name": "stdout",
     "output_type": "stream",
     "text": [
      "\n",
      "2. Нормируем значения пикселей и перекодируем метки целевого класса.\n",
      "\n",
      "Метка класса до кодирования: [5 0 4 1 9] \n",
      "Метки калссов в результате кодирования:\n",
      " [[0. 0. 0. 0. 0. 1. 0. 0. 0. 0.]\n",
      " [1. 0. 0. 0. 0. 0. 0. 0. 0. 0.]\n",
      " [0. 0. 0. 0. 1. 0. 0. 0. 0. 0.]\n",
      " [0. 1. 0. 0. 0. 0. 0. 0. 0. 0.]\n",
      " [0. 0. 0. 0. 0. 0. 0. 0. 0. 1.]]\n",
      "\n",
      "3. Сожмём размеры изобаражений для ускорения процесса обучения.\n",
      "\n",
      "Пример изображений из датасета после сжатия:\n"
     ]
    },
    {
     "data": {
      "image/png": "[encoded data removed]",
      "text/plain": [
       "<Figure size 1500x1000 with 5 Axes>"
      ]
     },
     "metadata": {},
     "output_type": "display_data"
    }
   ],
   "source": [
    "# повторно загрузим датасет с изображениями всех классов\n",
    "(X_train, y_train), (X_test, y_test) = mnist.load_data()\n",
    "print('1. Загрузим датасет, оценим размеры выборок.')\n",
    "print('\\nX_train.shape:', X_train.shape, ' X_test.shape:', X_test.shape)\n",
    "\n",
    "print('\\nПример размеченных изображений из датасета:')\n",
    "fig, ax = plt.subplots(1, 5, figsize=(15,10))\n",
    "for i in range(5):\n",
    "    ax[i].imshow(X_train[i+100], cmap='gray')\n",
    "    ax[i].axis('off')\n",
    "    ax[i].set_title(f'label: {y_train[i+100]}')\n",
    "plt.show()\n",
    "\n",
    "# нормируем значения яркости на 255\n",
    "X_train = X_train/255\n",
    "X_test = X_test/255\n",
    "\n",
    "# преобразуем метки классов методами библиотеки keras\n",
    "y_train_cat = to_categorical(y_train)\n",
    "y_test_cat = to_categorical(y_test)\n",
    "\n",
    "print('\\n2. Нормируем значения пикселей и перекодируем метки целевого класса.')\n",
    "print('\\nМетка класса до кодирования:', y_train[:5],\n",
    "      '\\nМетки калссов в результате кодирования:\\n', y_train_cat[:5])\n",
    "\n",
    "# сожмём изображения и проверим результаты\n",
    "print('\\n3. Сожмём размеры изобаражений для ускорения процесса обучения.')\n",
    "\n",
    "## X_train[..., np.newaxis] - создаёт фиктивный канал в тензоре изображения\n",
    "## чтобы корректно сжать его до 6*6\n",
    "## \"...[..., 0]\" сбрасывает канал делая тензор прежней размерности\n",
    "\n",
    "X_train_resized = tf.image.resize(X_train[..., np.newaxis], (6, 6))[..., 0]\n",
    "X_test_resized = tf.image.resize(X_test[..., np.newaxis], (6, 6))[..., 0]\n",
    "\n",
    "fig, ax = plt.subplots(1, 5, figsize=(15, 10))\n",
    "\n",
    "print('\\nПример изображений из датасета после сжатия:')\n",
    "for i in range(5):\n",
    "    ax[i].imshow(X_train_resized[i+100], cmap='gray')\n",
    "    ax[i].axis('off')\n",
    "    ax[i].set_title(f'label: {y_train[i+100]}')\n",
    "plt.show()"
   ]
  },
  {
   "cell_type": "markdown",
   "id": "1e8d5b86",
   "metadata": {},
   "source": [
    "Для человеческого восприятия сжатие кажется весьма агрессивным и по таким изображениям метки классов расставить крайне затруднительно, тем интереснее будет увидет насколько успешнее нейросеть может оказаться в решении такой специализированной задачи. Обучающая и тестовая выборки сформированы, перейдём к конструированию сети.  \n",
    "\n",
    "#### Нейросеть глубокого обучения (1 слой + dropout) для предобработанных входных данных.\n",
    "\n",
    "Попробуем начать с простого размышления — для разделения требуется логистическая регрессии, но с десятью классами. Т.е. разделение будет осуществляться в выходном слое с помощью функции активации, отличной от **sigmoid**, в нашем случае нужно использовать фукнкцию **softmax**.  \n",
    "\n",
    "Функция потерь также будет отличаться от **бинарной кросс-энтропии**, речь пойдёт о **разрежённой категориальной кросс-энтропии** или **sparse_categorical_crossentropy** (\"sparse\" говорит о способе кодирования ответов), если в задаче требуется просто номер класса, то используем эту функцию потерь. В нашем случае, когда ответы кодируются One-Hot-Encoding и, например, классу 9 соответствует целый вектор [0, 0, 0, 0, 0, 0, 0, 0, 1], тогда применим `categorical_crossentropy()`."
   ]
  },
  {
   "cell_type": "code",
   "execution_count": 37,
   "id": "6379f922",
   "metadata": {},
   "outputs": [
    {
     "name": "stdout",
     "output_type": "stream",
     "text": [
      "Model: \"sequential_6\"\n",
      "_________________________________________________________________\n",
      " Layer (type)                Output Shape              Param #   \n",
      "=================================================================\n",
      " flatten_1 (Flatten)         (None, 36)                0         \n",
      "                                                                 \n",
      " dense_11 (Dense)            (None, 200)               7400      \n",
      "                                                                 \n",
      " dropout (Dropout)           (None, 200)               0         \n",
      "                                                                 \n",
      " dense_12 (Dense)            (None, 10)                2010      \n",
      "                                                                 \n",
      "=================================================================\n",
      "Total params: 9,410\n",
      "Trainable params: 9,410\n",
      "Non-trainable params: 0\n",
      "_________________________________________________________________\n"
     ]
    }
   ],
   "source": [
    "# сконструируем и скомпилируем сеть для новой задачи:\n",
    "\n",
    "## 10 классов на выходе, как минимум 1 скрытый слой, dropout=0.3 на первом слое,\n",
    "## sigmoid в многоклассовой классификации заменяется на функцию softmax, зависящую\n",
    "## от большего количества входов\n",
    "\n",
    "tf.random.set_seed(606)\n",
    "\n",
    "model = Sequential([\n",
    "    Flatten(input_shape=(X_train_resized[rng.randint(len(X_train_resized))].shape)),\n",
    "    Dense(units=200, activation='elu'),\n",
    "    Dropout(.3),# input_shape=(50,)),\n",
    "    #Dense(units=100, activation='leaky_relu'),\n",
    "    #Dense(units=10, activation='tanh'),\n",
    "    Dense(10, activation='softmax')   ## sigmoid заменяется на функцию softmax\n",
    "])\n",
    "\n",
    "## зададим learning_rate оптимизатора, отличный от стандартного, для более быстрого обучения\n",
    "adam = Adam(learning_rate=0.5)\n",
    "\n",
    "## для 10 классов используем категориальную кросс-энтропию\n",
    "model.compile(optimizer=adam, loss='categorical_crossentropy', metrics='accuracy')\n",
    "\n",
    "# выведем информацию по сети\n",
    "model.summary()"
   ]
  },
  {
   "cell_type": "code",
   "execution_count": 38,
   "id": "521f6f27",
   "metadata": {
    "scrolled": true
   },
   "outputs": [
    {
     "name": "stdout",
     "output_type": "stream",
     "text": [
      "\n",
      "Epoch 13: ReduceLROnPlateau reducing learning rate to 0.25.\n",
      "\n",
      "Epoch 20: ReduceLROnPlateau reducing learning rate to 0.125.\n",
      "\n",
      "Epoch 29: ReduceLROnPlateau reducing learning rate to 0.0625.\n",
      "\n",
      "Epoch 39: ReduceLROnPlateau reducing learning rate to 0.03125.\n",
      "\n",
      "Epoch 47: ReduceLROnPlateau reducing learning rate to 0.015625.\n",
      "\n",
      "Epoch 57: ReduceLROnPlateau reducing learning rate to 0.0078125.\n",
      "\n",
      "Epoch 70: ReduceLROnPlateau reducing learning rate to 0.00390625.\n",
      "\n",
      "Epoch 76: ReduceLROnPlateau reducing learning rate to 0.001953125.\n",
      "\n",
      "Epoch 91: ReduceLROnPlateau reducing learning rate to 0.0009765625.\n",
      "\n",
      "Epoch 97: ReduceLROnPlateau reducing learning rate to 0.00048828125.\n",
      "Wall time: 3min 40s\n"
     ]
    },
    {
     "data": {
      "text/plain": [
       "<keras.callbacks.History at 0x291231d8b20>"
      ]
     },
     "execution_count": 38,
     "metadata": {},
     "output_type": "execute_result"
    }
   ],
   "source": [
    "%%time\n",
    "# обучим скомпилированную нейросеть с указанием тестовой выборки \n",
    "# чтобы сразу видеть процесс обучения без послед. проверки на тесте\n",
    "# укажем кол-во батчей на обработку\n",
    "\n",
    "## снова задаем EarlyStopping\n",
    "early_stopping_pic = EarlyStopping(\n",
    "    monitor=\"val_loss\",   ## монитор, отслеживающий метрику на валидации \n",
    "    min_delta=0.0001,\n",
    "    patience=100,     ## задержка перед выходом из обучения по лучшему результату\n",
    "    verbose=1,\n",
    "    mode=\"auto\",      ## режим монитора (loss - должен падать, метрика - улучшаться)\n",
    "    baseline=None,\n",
    "    restore_best_weights=True,   ## модель должна восстанавливаться с лучшими весами\n",
    "    start_from_epoch=0,\n",
    ")\n",
    "\n",
    "## снова задаем  ReduceLROnPlateau\n",
    "reduce_lr_pic = ReduceLROnPlateau(\n",
    "    monitor=\"val_loss\",\n",
    "    factor=0.5,\n",
    "    patience=5,\n",
    "    verbose=1,\n",
    "    mode=\"auto\",\n",
    "    min_delta=0.001,\n",
    "    cooldown=2,\n",
    "    min_lr=1e-8\n",
    ")\n",
    "\n",
    "model.fit(X_train_resized, y_train_cat,\n",
    "            validation_data=(X_test_resized, y_test_cat),\n",
    "            epochs=100,\n",
    "            #batch_size=64,         ## выборка помещается в ОЗУ, но разбиение стоит увеличить\n",
    "            steps_per_epoch=1000,   ## тем или иным способом для улучшения обучаемости модели\n",
    "            callbacks=[early_stopping_pic, reduce_lr_pic],    ## передаём callback\n",
    "            shuffle=True,\n",
    "            verbose=0)"
   ]
  },
  {
   "cell_type": "markdown",
   "id": "ff021b49",
   "metadata": {},
   "source": [
    "* Довольно простая нейросетевая логистическая регрессия на 10 классов научилась достигать точности порядка 0.85 (в зависимости от числа нейронов от 50 до 300 и более). Это не слишком много, но стоит отметить, что обучалась сеть относительно недолго и на батчах из очень маленьких изображений, без свёртончых слоёв перед входом и имея след. особенности устройства.\n",
    "\n",
    "\n",
    "* Варьирование кол-вом нейронов и dropout-ом на качестве результатов сказывается двояко: сеть может переобучается, либо не приобретать достаточной обобщающей способности из-за малого кол-ва элементов - таким образом приходится искать компромисс."
   ]
  },
  {
   "cell_type": "code",
   "execution_count": 39,
   "id": "f0df1b9f",
   "metadata": {},
   "outputs": [
    {
     "name": "stdout",
     "output_type": "stream",
     "text": [
      "313/313 [==============================] - 0s 801us/step\n",
      "\n",
      "Матрица ошибок классификации (на тестовой выборке):\n"
     ]
    },
    {
     "data": {
      "image/png": "[encoded data removed]",
      "text/plain": [
       "<Figure size 640x480 with 2 Axes>"
      ]
     },
     "metadata": {},
     "output_type": "display_data"
    },
    {
     "name": "stdout",
     "output_type": "stream",
     "text": [
      "Отчёт классификации:\n"
     ]
    },
    {
     "data": {
      "text/html": [
       "<div>\n",
       "<style scoped>\n",
       "    .dataframe tbody tr th:only-of-type {\n",
       "        vertical-align: middle;\n",
       "    }\n",
       "\n",
       "    .dataframe tbody tr th {\n",
       "        vertical-align: top;\n",
       "    }\n",
       "\n",
       "    .dataframe thead th {\n",
       "        text-align: right;\n",
       "    }\n",
       "</style>\n",
       "<table border=\"1\" class=\"dataframe\">\n",
       "  <thead>\n",
       "    <tr style=\"text-align: right;\">\n",
       "      <th></th>\n",
       "      <th>precision</th>\n",
       "      <th>recall</th>\n",
       "      <th>f1-score</th>\n",
       "      <th>support</th>\n",
       "    </tr>\n",
       "  </thead>\n",
       "  <tbody>\n",
       "    <tr>\n",
       "      <th>0</th>\n",
       "      <td>0.8860</td>\n",
       "      <td>0.9122</td>\n",
       "      <td>0.8989</td>\n",
       "      <td>980.0000</td>\n",
       "    </tr>\n",
       "    <tr>\n",
       "      <th>1</th>\n",
       "      <td>0.9357</td>\n",
       "      <td>0.9480</td>\n",
       "      <td>0.9418</td>\n",
       "      <td>1135.0000</td>\n",
       "    </tr>\n",
       "    <tr>\n",
       "      <th>2</th>\n",
       "      <td>0.8349</td>\n",
       "      <td>0.8624</td>\n",
       "      <td>0.8484</td>\n",
       "      <td>1032.0000</td>\n",
       "    </tr>\n",
       "    <tr>\n",
       "      <th>3</th>\n",
       "      <td>0.7880</td>\n",
       "      <td>0.7436</td>\n",
       "      <td>0.7652</td>\n",
       "      <td>1010.0000</td>\n",
       "    </tr>\n",
       "    <tr>\n",
       "      <th>4</th>\n",
       "      <td>0.8474</td>\n",
       "      <td>0.8259</td>\n",
       "      <td>0.8365</td>\n",
       "      <td>982.0000</td>\n",
       "    </tr>\n",
       "    <tr>\n",
       "      <th>5</th>\n",
       "      <td>0.8124</td>\n",
       "      <td>0.7769</td>\n",
       "      <td>0.7943</td>\n",
       "      <td>892.0000</td>\n",
       "    </tr>\n",
       "    <tr>\n",
       "      <th>6</th>\n",
       "      <td>0.8852</td>\n",
       "      <td>0.9019</td>\n",
       "      <td>0.8935</td>\n",
       "      <td>958.0000</td>\n",
       "    </tr>\n",
       "    <tr>\n",
       "      <th>7</th>\n",
       "      <td>0.9130</td>\n",
       "      <td>0.8268</td>\n",
       "      <td>0.8678</td>\n",
       "      <td>1028.0000</td>\n",
       "    </tr>\n",
       "    <tr>\n",
       "      <th>8</th>\n",
       "      <td>0.8081</td>\n",
       "      <td>0.7608</td>\n",
       "      <td>0.7837</td>\n",
       "      <td>974.0000</td>\n",
       "    </tr>\n",
       "    <tr>\n",
       "      <th>9</th>\n",
       "      <td>0.7500</td>\n",
       "      <td>0.8831</td>\n",
       "      <td>0.8111</td>\n",
       "      <td>1009.0000</td>\n",
       "    </tr>\n",
       "    <tr>\n",
       "      <th>accuracy</th>\n",
       "      <td>0.8461</td>\n",
       "      <td>0.8461</td>\n",
       "      <td>0.8461</td>\n",
       "      <td>0.8461</td>\n",
       "    </tr>\n",
       "    <tr>\n",
       "      <th>macro avg</th>\n",
       "      <td>0.8461</td>\n",
       "      <td>0.8442</td>\n",
       "      <td>0.8441</td>\n",
       "      <td>10000.0000</td>\n",
       "    </tr>\n",
       "    <tr>\n",
       "      <th>weighted avg</th>\n",
       "      <td>0.8475</td>\n",
       "      <td>0.8461</td>\n",
       "      <td>0.8458</td>\n",
       "      <td>10000.0000</td>\n",
       "    </tr>\n",
       "  </tbody>\n",
       "</table>\n",
       "</div>"
      ],
      "text/plain": [
       "              precision  recall  f1-score     support\n",
       "0                0.8860  0.9122    0.8989    980.0000\n",
       "1                0.9357  0.9480    0.9418   1135.0000\n",
       "2                0.8349  0.8624    0.8484   1032.0000\n",
       "3                0.7880  0.7436    0.7652   1010.0000\n",
       "4                0.8474  0.8259    0.8365    982.0000\n",
       "5                0.8124  0.7769    0.7943    892.0000\n",
       "6                0.8852  0.9019    0.8935    958.0000\n",
       "7                0.9130  0.8268    0.8678   1028.0000\n",
       "8                0.8081  0.7608    0.7837    974.0000\n",
       "9                0.7500  0.8831    0.8111   1009.0000\n",
       "accuracy         0.8461  0.8461    0.8461      0.8461\n",
       "macro avg        0.8461  0.8442    0.8441  10000.0000\n",
       "weighted avg     0.8475  0.8461    0.8458  10000.0000"
      ]
     },
     "execution_count": 39,
     "metadata": {},
     "output_type": "execute_result"
    }
   ],
   "source": [
    "## выведем матрицу ошибок и отчёт классификации\n",
    "\n",
    "# classification_report\n",
    "y_true = y_test\n",
    "y_pred = np.array([x.argmax() for x in model.predict(X_test_resized)])\n",
    "\n",
    "# матрица ошибок\n",
    "print('\\nМатрица ошибок классификации (на тестовой выборке):')\n",
    "ConfusionMatrixDisplay(confusion_matrix(y_true, y_pred)).plot()                             \n",
    "plt.show()\n",
    "\n",
    "# отчёт классификации\n",
    "\n",
    "print('Отчёт классификации:')\n",
    "report = classification_report(y_true, y_pred, digits=4, output_dict=True)\n",
    "pd.DataFrame(report).round(4).transpose()"
   ]
  },
  {
   "cell_type": "markdown",
   "id": "5f01ee87",
   "metadata": {},
   "source": [
    "Сравним качество обученной выше нейросети с показателями многоклассовой логистической регрессии, отчёт классификации также выведем и рассмотрим ниже.\n",
    "\n",
    "#### Baseline Логистическая регрессия (многоклассовая) для предобработанных входных данных."
   ]
  },
  {
   "cell_type": "code",
   "execution_count": 40,
   "id": "6e91898a",
   "metadata": {},
   "outputs": [
    {
     "name": "stdout",
     "output_type": "stream",
     "text": [
      "Нормировнные значения яркости пикселей изображения в качестве признаков для обучения:\n"
     ]
    },
    {
     "data": {
      "text/html": [
       "<div>\n",
       "<style scoped>\n",
       "    .dataframe tbody tr th:only-of-type {\n",
       "        vertical-align: middle;\n",
       "    }\n",
       "\n",
       "    .dataframe tbody tr th {\n",
       "        vertical-align: top;\n",
       "    }\n",
       "\n",
       "    .dataframe thead th {\n",
       "        text-align: right;\n",
       "    }\n",
       "</style>\n",
       "<table border=\"1\" class=\"dataframe\">\n",
       "  <thead>\n",
       "    <tr style=\"text-align: right;\">\n",
       "      <th></th>\n",
       "      <th>0</th>\n",
       "      <th>1</th>\n",
       "      <th>2</th>\n",
       "      <th>3</th>\n",
       "      <th>4</th>\n",
       "      <th>5</th>\n",
       "      <th>6</th>\n",
       "      <th>7</th>\n",
       "      <th>8</th>\n",
       "      <th>9</th>\n",
       "      <th>...</th>\n",
       "      <th>26</th>\n",
       "      <th>27</th>\n",
       "      <th>28</th>\n",
       "      <th>29</th>\n",
       "      <th>30</th>\n",
       "      <th>31</th>\n",
       "      <th>32</th>\n",
       "      <th>33</th>\n",
       "      <th>34</th>\n",
       "      <th>35</th>\n",
       "    </tr>\n",
       "  </thead>\n",
       "  <tbody>\n",
       "    <tr>\n",
       "      <th>33140</th>\n",
       "      <td>0.0</td>\n",
       "      <td>0.0</td>\n",
       "      <td>0.0</td>\n",
       "      <td>0.0</td>\n",
       "      <td>0.0</td>\n",
       "      <td>0.0</td>\n",
       "      <td>0.0</td>\n",
       "      <td>0.0</td>\n",
       "      <td>0.0</td>\n",
       "      <td>0.607844</td>\n",
       "      <td>...</td>\n",
       "      <td>0.000000</td>\n",
       "      <td>0.000000</td>\n",
       "      <td>0.0</td>\n",
       "      <td>0.0</td>\n",
       "      <td>0.0</td>\n",
       "      <td>0.0</td>\n",
       "      <td>0.0</td>\n",
       "      <td>0.0</td>\n",
       "      <td>0.0</td>\n",
       "      <td>0.0</td>\n",
       "    </tr>\n",
       "    <tr>\n",
       "      <th>6208</th>\n",
       "      <td>0.0</td>\n",
       "      <td>0.0</td>\n",
       "      <td>0.0</td>\n",
       "      <td>0.0</td>\n",
       "      <td>0.0</td>\n",
       "      <td>0.0</td>\n",
       "      <td>0.0</td>\n",
       "      <td>0.0</td>\n",
       "      <td>0.0</td>\n",
       "      <td>0.966340</td>\n",
       "      <td>...</td>\n",
       "      <td>0.863399</td>\n",
       "      <td>0.000000</td>\n",
       "      <td>0.0</td>\n",
       "      <td>0.0</td>\n",
       "      <td>0.0</td>\n",
       "      <td>0.0</td>\n",
       "      <td>0.0</td>\n",
       "      <td>0.0</td>\n",
       "      <td>0.0</td>\n",
       "      <td>0.0</td>\n",
       "    </tr>\n",
       "    <tr>\n",
       "      <th>30886</th>\n",
       "      <td>0.0</td>\n",
       "      <td>0.0</td>\n",
       "      <td>0.0</td>\n",
       "      <td>0.0</td>\n",
       "      <td>0.0</td>\n",
       "      <td>0.0</td>\n",
       "      <td>0.0</td>\n",
       "      <td>0.0</td>\n",
       "      <td>0.0</td>\n",
       "      <td>0.914379</td>\n",
       "      <td>...</td>\n",
       "      <td>0.066013</td>\n",
       "      <td>0.045752</td>\n",
       "      <td>0.0</td>\n",
       "      <td>0.0</td>\n",
       "      <td>0.0</td>\n",
       "      <td>0.0</td>\n",
       "      <td>0.0</td>\n",
       "      <td>0.0</td>\n",
       "      <td>0.0</td>\n",
       "      <td>0.0</td>\n",
       "    </tr>\n",
       "  </tbody>\n",
       "</table>\n",
       "<p>3 rows × 36 columns</p>\n",
       "</div>"
      ],
      "text/plain": [
       "        0    1    2    3    4    5    6    7    8         9   ...        26  \\\n",
       "33140  0.0  0.0  0.0  0.0  0.0  0.0  0.0  0.0  0.0  0.607844  ...  0.000000   \n",
       "6208   0.0  0.0  0.0  0.0  0.0  0.0  0.0  0.0  0.0  0.966340  ...  0.863399   \n",
       "30886  0.0  0.0  0.0  0.0  0.0  0.0  0.0  0.0  0.0  0.914379  ...  0.066013   \n",
       "\n",
       "             27   28   29   30   31   32   33   34   35  \n",
       "33140  0.000000  0.0  0.0  0.0  0.0  0.0  0.0  0.0  0.0  \n",
       "6208   0.000000  0.0  0.0  0.0  0.0  0.0  0.0  0.0  0.0  \n",
       "30886  0.045752  0.0  0.0  0.0  0.0  0.0  0.0  0.0  0.0  \n",
       "\n",
       "[3 rows x 36 columns]"
      ]
     },
     "metadata": {},
     "output_type": "display_data"
    },
    {
     "name": "stdout",
     "output_type": "stream",
     "text": [
      "Размеры выборок для обученичения:\n",
      "(60000, 36) (60000,) ((10000, 36), (10000,)) \n",
      "\n",
      "Wall time: 22.7 ms\n"
     ]
    }
   ],
   "source": [
    "%%time\n",
    "# создадим из наборов уменьшенных изображений набор данных для обучения логистич.регресси\n",
    "\n",
    "train_data = pd.DataFrame(data=np.reshape(X_train_resized,(len(X_train_resized),-1,1))[...,0])\n",
    "test_data = pd.DataFrame(data=np.reshape(X_test_resized,(len(X_test_resized),-1,1))[...,0])\n",
    "print('Нормировнные значения яркости пикселей изображения в качестве признаков для обучения:')\n",
    "display(train_data.sample(3))\n",
    "\n",
    "# строим соотв. наборы признаков (обучение и тест) \n",
    "y_train_10cl = y_train\n",
    "X_train_10cl = train_data.values\n",
    "\n",
    "y_test_10cl = y_test\n",
    "X_test_10cl = test_data.values\n",
    "\n",
    "print('Размеры выборок для обученичения:')\n",
    "print(*(X_train_10cl.shape, y_train_10cl.shape), (X_test_10cl.shape, y_test_10cl.shape), '\\n')"
   ]
  },
  {
   "cell_type": "code",
   "execution_count": 41,
   "id": "51050aab",
   "metadata": {
    "scrolled": true
   },
   "outputs": [
    {
     "name": "stdout",
     "output_type": "stream",
     "text": [
      "Fitting 4 folds for each of 1 candidates, totalling 4 fits\n"
     ]
    },
    {
     "name": "stderr",
     "output_type": "stream",
     "text": [
      "C:\\Users\\Morodze\\anaconda3\\lib\\site-packages\\sklearn\\model_selection\\_search.py:292: UserWarning: The total space of parameters 1 is smaller than n_iter=5. Running 1 iterations. For exhaustive searches, use GridSearchCV.\n",
      "  warnings.warn(\n"
     ]
    },
    {
     "name": "stdout",
     "output_type": "stream",
     "text": [
      "\n",
      "Логистическая регрессия\n",
      "\n",
      "- Лучший accuracy_score =  0.7359\n",
      "- Лучшие параметры:\n",
      "\t {'solver': 'saga', 'penalty': 'l2', 'max_iter': 5000, 'class_weight': 'balanced', 'C': 105}\n",
      "- Лучшая модель:\n",
      "\t доступна из \"LR_clf.best_estimator_\"\n",
      "\n",
      "Wall time: 14min 22s\n"
     ]
    }
   ],
   "source": [
    "%%time\n",
    "# инициализация модели\n",
    "model_LR10 = LogisticRegression(random_state=606, multi_class='multinomial')\n",
    "\n",
    "# обучение модели с кросс-валидацией с подбором гиперпараметров по сетке (неподробно, близко к дефолтным)\n",
    "\n",
    "## Pipeline с предобработкой не требуется, значения яркости уже нормированы\n",
    "## выполним поиск лучших гиперпарметров по сетке с кросс-валидацией\n",
    "\n",
    "grid = {\n",
    "    'penalty': ['l2'], #['l1', 'l2'],\n",
    "    'C': [105], #[*np.linspace(0.0001, 1, 50), *np.linspace(10, 100000, 50)],\n",
    "    'max_iter': [5000],\n",
    "    'class_weight': ['balanced'],\n",
    "    'solver': ['saga']\n",
    "}\n",
    "\n",
    "LR10_clf = RandomizedSearchCV(\n",
    "    model_LR,\n",
    "    param_distributions=grid,\n",
    "    random_state=606,\n",
    "    n_iter=5,\n",
    "    scoring='accuracy',\n",
    "    verbose=1,\n",
    "    n_jobs=-1,\n",
    "    cv=4\n",
    ")\n",
    "\n",
    "LR10_clf.fit(X_train_10cl, y_train_10cl)\n",
    "\n",
    "# выведем результаты на экран:\n",
    "print('\\nЛогистическая регрессия\\n')\n",
    "print('- Лучший accuracy_score = ', LR10_clf.best_score_.round(5))\n",
    "print('- Лучшие параметры:\\n\\t', {str(i):LR10_clf.best_params_.get(i) for i in LR10_clf.best_params_})\n",
    "print('- Лучшая модель:\\n\\t доступна из \"LR_clf.best_estimator_\"\\n')"
   ]
  },
  {
   "cell_type": "code",
   "execution_count": 42,
   "id": "a58b68bd",
   "metadata": {},
   "outputs": [
    {
     "name": "stdout",
     "output_type": "stream",
     "text": [
      "\n",
      "Матрица ошибок классификации (на тестовой выборке):\n"
     ]
    },
    {
     "data": {
      "image/png": "[encoded data removed]",
      "text/plain": [
       "<Figure size 640x480 with 2 Axes>"
      ]
     },
     "metadata": {},
     "output_type": "display_data"
    },
    {
     "name": "stdout",
     "output_type": "stream",
     "text": [
      "Отчёт классификации:\n"
     ]
    },
    {
     "data": {
      "text/html": [
       "<div>\n",
       "<style scoped>\n",
       "    .dataframe tbody tr th:only-of-type {\n",
       "        vertical-align: middle;\n",
       "    }\n",
       "\n",
       "    .dataframe tbody tr th {\n",
       "        vertical-align: top;\n",
       "    }\n",
       "\n",
       "    .dataframe thead th {\n",
       "        text-align: right;\n",
       "    }\n",
       "</style>\n",
       "<table border=\"1\" class=\"dataframe\">\n",
       "  <thead>\n",
       "    <tr style=\"text-align: right;\">\n",
       "      <th></th>\n",
       "      <th>precision</th>\n",
       "      <th>recall</th>\n",
       "      <th>f1-score</th>\n",
       "      <th>support</th>\n",
       "    </tr>\n",
       "  </thead>\n",
       "  <tbody>\n",
       "    <tr>\n",
       "      <th>0</th>\n",
       "      <td>0.8661</td>\n",
       "      <td>0.8776</td>\n",
       "      <td>0.8718</td>\n",
       "      <td>980.0000</td>\n",
       "    </tr>\n",
       "    <tr>\n",
       "      <th>1</th>\n",
       "      <td>0.7991</td>\n",
       "      <td>0.9110</td>\n",
       "      <td>0.8514</td>\n",
       "      <td>1135.0000</td>\n",
       "    </tr>\n",
       "    <tr>\n",
       "      <th>2</th>\n",
       "      <td>0.7597</td>\n",
       "      <td>0.6986</td>\n",
       "      <td>0.7279</td>\n",
       "      <td>1032.0000</td>\n",
       "    </tr>\n",
       "    <tr>\n",
       "      <th>3</th>\n",
       "      <td>0.6630</td>\n",
       "      <td>0.6505</td>\n",
       "      <td>0.6567</td>\n",
       "      <td>1010.0000</td>\n",
       "    </tr>\n",
       "    <tr>\n",
       "      <th>4</th>\n",
       "      <td>0.7040</td>\n",
       "      <td>0.7240</td>\n",
       "      <td>0.7139</td>\n",
       "      <td>982.0000</td>\n",
       "    </tr>\n",
       "    <tr>\n",
       "      <th>5</th>\n",
       "      <td>0.6754</td>\n",
       "      <td>0.6648</td>\n",
       "      <td>0.6701</td>\n",
       "      <td>892.0000</td>\n",
       "    </tr>\n",
       "    <tr>\n",
       "      <th>6</th>\n",
       "      <td>0.8150</td>\n",
       "      <td>0.8507</td>\n",
       "      <td>0.8325</td>\n",
       "      <td>958.0000</td>\n",
       "    </tr>\n",
       "    <tr>\n",
       "      <th>7</th>\n",
       "      <td>0.7360</td>\n",
       "      <td>0.7539</td>\n",
       "      <td>0.7448</td>\n",
       "      <td>1028.0000</td>\n",
       "    </tr>\n",
       "    <tr>\n",
       "      <th>8</th>\n",
       "      <td>0.7141</td>\n",
       "      <td>0.6335</td>\n",
       "      <td>0.6714</td>\n",
       "      <td>974.0000</td>\n",
       "    </tr>\n",
       "    <tr>\n",
       "      <th>9</th>\n",
       "      <td>0.7076</td>\n",
       "      <td>0.6789</td>\n",
       "      <td>0.6930</td>\n",
       "      <td>1009.0000</td>\n",
       "    </tr>\n",
       "    <tr>\n",
       "      <th>accuracy</th>\n",
       "      <td>0.7468</td>\n",
       "      <td>0.7468</td>\n",
       "      <td>0.7468</td>\n",
       "      <td>0.7468</td>\n",
       "    </tr>\n",
       "    <tr>\n",
       "      <th>macro avg</th>\n",
       "      <td>0.7440</td>\n",
       "      <td>0.7444</td>\n",
       "      <td>0.7433</td>\n",
       "      <td>10000.0000</td>\n",
       "    </tr>\n",
       "    <tr>\n",
       "      <th>weighted avg</th>\n",
       "      <td>0.7450</td>\n",
       "      <td>0.7468</td>\n",
       "      <td>0.7450</td>\n",
       "      <td>10000.0000</td>\n",
       "    </tr>\n",
       "  </tbody>\n",
       "</table>\n",
       "</div>"
      ],
      "text/plain": [
       "              precision  recall  f1-score     support\n",
       "0                0.8661  0.8776    0.8718    980.0000\n",
       "1                0.7991  0.9110    0.8514   1135.0000\n",
       "2                0.7597  0.6986    0.7279   1032.0000\n",
       "3                0.6630  0.6505    0.6567   1010.0000\n",
       "4                0.7040  0.7240    0.7139    982.0000\n",
       "5                0.6754  0.6648    0.6701    892.0000\n",
       "6                0.8150  0.8507    0.8325    958.0000\n",
       "7                0.7360  0.7539    0.7448   1028.0000\n",
       "8                0.7141  0.6335    0.6714    974.0000\n",
       "9                0.7076  0.6789    0.6930   1009.0000\n",
       "accuracy         0.7468  0.7468    0.7468      0.7468\n",
       "macro avg        0.7440  0.7444    0.7433  10000.0000\n",
       "weighted avg     0.7450  0.7468    0.7450  10000.0000"
      ]
     },
     "execution_count": 42,
     "metadata": {},
     "output_type": "execute_result"
    }
   ],
   "source": [
    "## выведем матрицу ошибок и отчёт классификации\n",
    "\n",
    "# classification_report\n",
    "y_true = y_test_10cl\n",
    "y_pred = LR10_clf.best_estimator_.predict(X_test_10cl)\n",
    "\n",
    "# матрица ошибок\n",
    "print('\\nМатрица ошибок классификации (на тестовой выборке):')\n",
    "ConfusionMatrixDisplay(confusion_matrix(y_true, y_pred)).plot()                             \n",
    "plt.show()\n",
    "\n",
    "# отчёт классификации\n",
    "\n",
    "print('Отчёт классификации:')\n",
    "report = classification_report(y_true, y_pred, digits=4, output_dict=True)\n",
    "pd.DataFrame(report).round(4).transpose()"
   ]
  },
  {
   "cell_type": "markdown",
   "id": "6233f5c2",
   "metadata": {},
   "source": [
    "- Значения метрик качества модели (даже с настройками \"по умолчанию\" и без подбора гиперпараметров) получаются уже не столь однозначными как при сравнении работы классификаторов (нейросеть и логистич.регрессия) для 2 классов.\n",
    "\n",
    "\n",
    "- Приведенные выше достижения многоклассовой логистич. регрессии получились ниже, чем метрики нейросетевой модели, а также затратилось значительно большее количество времени на обучение модели, подбор ГП и повторную подготовку признаков. Это снова поднимает вопрос о том, когда и какую модель целесообразнее использовать. Чаша весов всё же значительнее склоняется в пользу нейросетевого подхода в отношении избыточных данных (таких как изображения).\n",
    "\n",
    "\n",
    "#### Нейросеть глубокого обучения (3 скрытых слоя + dropout) для НЕобработанных входных данных.\n",
    "\n",
    "В конце концов сравним предыдущие модели (случай многоклассовой классификации) с результатами, которые может достигать более сложная нейросеть глубокого обучения с несколькими скрытыми слоями, но на данных без какой бы-то ни было предобработки. Будем подавать на вход сети изобраения из обучающей выборки без преобразования.  "
   ]
  },
  {
   "cell_type": "code",
   "execution_count": 43,
   "id": "6354b151",
   "metadata": {},
   "outputs": [
    {
     "name": "stdout",
     "output_type": "stream",
     "text": [
      "\n",
      "Матрица ошибок классификации (на тестовой выборке):\n"
     ]
    },
    {
     "data": {
      "image/png": "[encoded data removed]",
      "text/plain": [
       "<Figure size 640x480 with 2 Axes>"
      ]
     },
     "metadata": {},
     "output_type": "display_data"
    },
    {
     "name": "stdout",
     "output_type": "stream",
     "text": [
      "Отчёт классификации:\n"
     ]
    },
    {
     "data": {
      "text/html": [
       "<div>\n",
       "<style scoped>\n",
       "    .dataframe tbody tr th:only-of-type {\n",
       "        vertical-align: middle;\n",
       "    }\n",
       "\n",
       "    .dataframe tbody tr th {\n",
       "        vertical-align: top;\n",
       "    }\n",
       "\n",
       "    .dataframe thead th {\n",
       "        text-align: right;\n",
       "    }\n",
       "</style>\n",
       "<table border=\"1\" class=\"dataframe\">\n",
       "  <thead>\n",
       "    <tr style=\"text-align: right;\">\n",
       "      <th></th>\n",
       "      <th>precision</th>\n",
       "      <th>recall</th>\n",
       "      <th>f1-score</th>\n",
       "      <th>support</th>\n",
       "    </tr>\n",
       "  </thead>\n",
       "  <tbody>\n",
       "    <tr>\n",
       "      <th>0</th>\n",
       "      <td>0.9809</td>\n",
       "      <td>0.9939</td>\n",
       "      <td>0.9873</td>\n",
       "      <td>980.000</td>\n",
       "    </tr>\n",
       "    <tr>\n",
       "      <th>1</th>\n",
       "      <td>0.9921</td>\n",
       "      <td>0.9903</td>\n",
       "      <td>0.9912</td>\n",
       "      <td>1135.000</td>\n",
       "    </tr>\n",
       "    <tr>\n",
       "      <th>2</th>\n",
       "      <td>0.9825</td>\n",
       "      <td>0.9816</td>\n",
       "      <td>0.9821</td>\n",
       "      <td>1032.000</td>\n",
       "    </tr>\n",
       "    <tr>\n",
       "      <th>3</th>\n",
       "      <td>0.9822</td>\n",
       "      <td>0.9851</td>\n",
       "      <td>0.9837</td>\n",
       "      <td>1010.000</td>\n",
       "    </tr>\n",
       "    <tr>\n",
       "      <th>4</th>\n",
       "      <td>0.9837</td>\n",
       "      <td>0.9807</td>\n",
       "      <td>0.9822</td>\n",
       "      <td>982.000</td>\n",
       "    </tr>\n",
       "    <tr>\n",
       "      <th>5</th>\n",
       "      <td>0.9808</td>\n",
       "      <td>0.9753</td>\n",
       "      <td>0.9781</td>\n",
       "      <td>892.000</td>\n",
       "    </tr>\n",
       "    <tr>\n",
       "      <th>6</th>\n",
       "      <td>0.9864</td>\n",
       "      <td>0.9812</td>\n",
       "      <td>0.9838</td>\n",
       "      <td>958.000</td>\n",
       "    </tr>\n",
       "    <tr>\n",
       "      <th>7</th>\n",
       "      <td>0.9750</td>\n",
       "      <td>0.9854</td>\n",
       "      <td>0.9802</td>\n",
       "      <td>1028.000</td>\n",
       "    </tr>\n",
       "    <tr>\n",
       "      <th>8</th>\n",
       "      <td>0.9794</td>\n",
       "      <td>0.9743</td>\n",
       "      <td>0.9768</td>\n",
       "      <td>974.000</td>\n",
       "    </tr>\n",
       "    <tr>\n",
       "      <th>9</th>\n",
       "      <td>0.9761</td>\n",
       "      <td>0.9703</td>\n",
       "      <td>0.9732</td>\n",
       "      <td>1009.000</td>\n",
       "    </tr>\n",
       "    <tr>\n",
       "      <th>accuracy</th>\n",
       "      <td>0.9820</td>\n",
       "      <td>0.9820</td>\n",
       "      <td>0.9820</td>\n",
       "      <td>0.982</td>\n",
       "    </tr>\n",
       "    <tr>\n",
       "      <th>macro avg</th>\n",
       "      <td>0.9819</td>\n",
       "      <td>0.9818</td>\n",
       "      <td>0.9818</td>\n",
       "      <td>10000.000</td>\n",
       "    </tr>\n",
       "    <tr>\n",
       "      <th>weighted avg</th>\n",
       "      <td>0.9820</td>\n",
       "      <td>0.9820</td>\n",
       "      <td>0.9820</td>\n",
       "      <td>10000.000</td>\n",
       "    </tr>\n",
       "  </tbody>\n",
       "</table>\n",
       "</div>"
      ],
      "text/plain": [
       "              precision  recall  f1-score    support\n",
       "0                0.9809  0.9939    0.9873    980.000\n",
       "1                0.9921  0.9903    0.9912   1135.000\n",
       "2                0.9825  0.9816    0.9821   1032.000\n",
       "3                0.9822  0.9851    0.9837   1010.000\n",
       "4                0.9837  0.9807    0.9822    982.000\n",
       "5                0.9808  0.9753    0.9781    892.000\n",
       "6                0.9864  0.9812    0.9838    958.000\n",
       "7                0.9750  0.9854    0.9802   1028.000\n",
       "8                0.9794  0.9743    0.9768    974.000\n",
       "9                0.9761  0.9703    0.9732   1009.000\n",
       "accuracy         0.9820  0.9820    0.9820      0.982\n",
       "macro avg        0.9819  0.9818    0.9818  10000.000\n",
       "weighted avg     0.9820  0.9820    0.9820  10000.000"
      ]
     },
     "execution_count": 43,
     "metadata": {},
     "output_type": "execute_result"
    }
   ],
   "source": [
    "# инициализируем новую модель и сконструируем новую сеть последовательным добавленеим слоёв\n",
    "model = Sequential()\n",
    "\n",
    "model.add(Flatten())                        ## начнём с плоского слоя\n",
    "model.add(Dense(256, activation='relu'))    ## добавим несколько глубоких слоёв с разным кол-вом нейронов\n",
    "model.add(Dropout(.3))                      ## и разными фукциями активации в них, а также слой с dropout-мех-ом  \n",
    "model.add(Dense(128, activation='relu'))\n",
    "model.add(Dense(64, activation='sigmoid'))\n",
    "model.add(Dense(10, activation='softmax'))\n",
    "\n",
    "optimizer = Adam(learning_rate=0.001)       ## для инициализации вручную выберем оптимизатор с небольшим LR\n",
    "                                            ## на этот раз снижать темп обучения ступенчато не станем\n",
    "    \n",
    "# инициализируем модель с нужной функцией потерь и выбранной метрикой кач-ва \n",
    "model.compile(optimizer=optimizer, loss='sparse_categorical_crossentropy', metrics=['acc'])\n",
    "\n",
    "# обучаем модель на тренировочных данных (без подготовки/сжатия, нормализации значений яркости произведена ранее)\n",
    "model.fit(X_train, y_train,\n",
    "          validation_data=(X_test, y_test),\n",
    "          batch_size=64,\n",
    "          #steps_per_epoch=1000,\n",
    "          epochs=20,\n",
    "          verbose=0,\n",
    "          shuffle=True)\n",
    "\n",
    "## выведем матрицу ошибок и отчёт классификации\n",
    "\n",
    "# classification_report\n",
    "y_true = y_test\n",
    "y_pred = [x.argmax() for x in model.predict(X_test, verbose=0)]\n",
    "\n",
    "# матрица ошибок\n",
    "print('\\nМатрица ошибок классификации (на тестовой выборке):')\n",
    "ConfusionMatrixDisplay(confusion_matrix(y_true, y_pred)).plot()                             \n",
    "plt.show()\n",
    "\n",
    "# отчёт классификации\n",
    "\n",
    "print('Отчёт классификации:')\n",
    "report = classification_report(y_true, y_pred, digits=4, output_dict=True)\n",
    "pd.DataFrame(report).round(4).transpose()"
   ]
  },
  {
   "cell_type": "markdown",
   "id": "e2b6dc30",
   "metadata": {},
   "source": [
    "- Результат говорит сам за себя и чуть ли не кратно превосходит предыдущие модели. Вопреки ожиданиям обучение на изображениях 28х28 не вызвало роста сложности задачи на порядок, всё также доступно без использования GPU, архитектура получилась не слишком сложной и эффективной. Используем имеющуюся модель как итоговую.\n",
    "\n",
    "\n",
    "### Альтернатива. Свёрточные сети.  \n",
    "\n",
    "Слои свёртки и усреднения в своё время открыли новые пути в направлении совершенствования нейросетевых моделей. И явились своего рода вехой в развитии именно за счёт способностей таких слоёв \"концентрировать\" информацию из разреженного массива данных и учитывать взаимосвязи блоков информации (как водится в изображениях, звуке, текстах при присущей им избыточности). Такое дополнение к архитектуре со скрытыми слоями позволило искать новые пути для преобладания сетей на основе перцептронов над классическими алгоритмами машинного обучения в соотв. задачах.  \n",
    "\n",
    "\n",
    "Будучи обученными на больших массивах данных, которые из-за присущих им ограничений просто \"не переварят\" классические ML-алгоритмы, такие сети должны успешно использоваться для задач классификации, сегметации и т.п. (в работе с регрессионными задачами есть своя специфика). Ниже приводится своеобразное воспроизведенеие архитектуры типа **LeNet** для решения задачи классификации на вышеуказанном примере:\n",
    "\n",
    "\n",
    "    1. Подобная архитектура используется для классификации небольших изображений (20–30 пикселей в поперечнике), на вход модели будут приходить изображения в несжатом виде соотв. размера.\n",
    "\n",
    "    2. Сеть начинается с 2-3 свёрточных слоёв размером 5x5, чередующихся со слоями пулинга *Average Pooling* размером 2x2. Эти слои постепенно уменьшают пространственное разрешение и концентрируют информацию в матрицы маленького размера.  \n",
    "\n",
    "    3. Чтобы не потерять важную информацию, количество фильтров растёт от слоя к слою.  \n",
    "\n",
    "    4. В конце сети идёт 1-2 полносвязных слоя, которые собирают все признаки и классифицируют их."
   ]
  },
  {
   "cell_type": "code",
   "execution_count": 44,
   "id": "7293cbd4",
   "metadata": {},
   "outputs": [
    {
     "name": "stdout",
     "output_type": "stream",
     "text": [
      "Кол-во батчей, сформированных из:\n",
      "\t- обучающей выборки (60000 изображений, по 64 объекта в батче): 938 шт.\n",
      "\t- тестовой выборки (10000 изображений, по 64 объекта в батче): 156 шт.\n",
      "\n",
      "Хар-ки батчей:\n",
      "\t- объекты внутри X: (64, 28, 28)\n",
      "\t- классы объектов внутри y: (64,)\n"
     ]
    }
   ],
   "source": [
    "# для автоматизации подачи обучающих примеров в модель было решено применять на генераторы\n",
    "\n",
    "from tensorflow.keras.utils import Sequence\n",
    "\n",
    "class DataGenerator(Sequence):\n",
    "    def __init__(self, data, labels, batch_size=64):\n",
    "        self.batch_size = batch_size\n",
    "        self.data = data\n",
    "        self.labels = labels\n",
    "        \n",
    "    def __len__(self):\n",
    "        return int(np.round(len(self.data) / self.batch_size))\n",
    "\n",
    "    def __getitem__(self, index):\n",
    "        X = self.data[index * self.batch_size : (index+1) * self.batch_size]/255\n",
    "        y = self.labels[index * self.batch_size : (index+1) * self.batch_size]\n",
    "\n",
    "        return X, y\n",
    "\n",
    "# для автоматизации подачи обучающих примеров в модель было решено применять на генераторы\n",
    "\n",
    "from tensorflow.keras.utils import Sequence\n",
    "\n",
    "class DataGenerator(Sequence):\n",
    "    def __init__(self, data, labels, batch_size=64):\n",
    "        self.batch_size = batch_size\n",
    "        self.data = data\n",
    "        self.labels = labels\n",
    "        \n",
    "    def __len__(self):\n",
    "        return int(np.round(len(self.data) / self.batch_size))\n",
    "\n",
    "    def __getitem__(self, index):\n",
    "        X = self.data[index * self.batch_size : (index+1) * self.batch_size]/255\n",
    "        y = self.labels[index * self.batch_size : (index+1) * self.batch_size]\n",
    "\n",
    "        return X, y\n",
    "\n",
    "# подадим данные в генераторы  и сформируем обучающий и тестовый наборы данных\n",
    "from keras.datasets import mnist\n",
    "(X_train, y_train), (X_test, y_test) = mnist.load_data()\n",
    "\n",
    "train_datagen = DataGenerator(X_train, y_train)\n",
    "test_datagen = DataGenerator(X_test, y_test)\n",
    "\n",
    "print(f'Кол-во батчей, сформированных из:\\n'\n",
    "      +f'\\t- обучающей выборки ({X_train.shape[0]} изображений, по 64 объекта в батче): {len(train_datagen)} шт.'\n",
    "      +f'\\n\\t- тестовой выборки ({X_test.shape[0]} изображений, по 64 объекта в батче): {len(test_datagen)} шт.')\n",
    "\n",
    "print('\\nХар-ки батчей:')\n",
    "for X, y in train_datagen:\n",
    "    print('\\t- объекты внутри X:', X.shape)\n",
    "    print('\\t- классы объектов внутри y:', y.shape)\n",
    "    break"
   ]
  },
  {
   "cell_type": "code",
   "execution_count": 45,
   "id": "5d710a15",
   "metadata": {},
   "outputs": [
    {
     "name": "stdout",
     "output_type": "stream",
     "text": [
      "Model: \"sequential_8\"\n",
      "_________________________________________________________________\n",
      " Layer (type)                Output Shape              Param #   \n",
      "=================================================================\n",
      " conv2d (Conv2D)             (None, 28, 28, 6)         156       \n",
      "                                                                 \n",
      " average_pooling2d (AverageP  (None, 14, 14, 6)        0         \n",
      " ooling2D)                                                       \n",
      "                                                                 \n",
      " conv2d_1 (Conv2D)           (None, 10, 10, 15)        2265      \n",
      "                                                                 \n",
      " average_pooling2d_1 (Averag  (None, 5, 5, 15)         0         \n",
      " ePooling2D)                                                     \n",
      "                                                                 \n",
      " flatten_3 (Flatten)         (None, 375)               0         \n",
      "                                                                 \n",
      " dense_17 (Dense)            (None, 120)               45120     \n",
      "                                                                 \n",
      " dense_18 (Dense)            (None, 30)                3630      \n",
      "                                                                 \n",
      " dense_19 (Dense)            (None, 10)                310       \n",
      "                                                                 \n",
      "=================================================================\n",
      "Total params: 51,481\n",
      "Trainable params: 51,481\n",
      "Non-trainable params: 0\n",
      "_________________________________________________________________\n",
      "\n",
      "Epoch 14: ReduceLROnPlateau reducing learning rate to 0.0007500000356230885.\n",
      "\n",
      "Epoch 17: ReduceLROnPlateau reducing learning rate to 0.0005625000048894435.\n",
      "\n",
      "Epoch 20: ReduceLROnPlateau reducing learning rate to 0.0004218749818392098.\n",
      "\n",
      "Epoch 23: ReduceLROnPlateau reducing learning rate to 0.00031640623637940735.\n",
      "\n",
      "Epoch 26: ReduceLROnPlateau reducing learning rate to 0.00023730468819849193.\n",
      "\n",
      "Epoch 29: ReduceLROnPlateau reducing learning rate to 0.00017797851614886895.\n",
      "Restoring model weights from the end of the best epoch: 11.\n",
      "Epoch 31: early stopping\n",
      "313/313 [==============================] - 1s 3ms/step\n",
      "\n",
      "Матрица ошибок классификации (на тестовой выборке):\n"
     ]
    },
    {
     "data": {
      "image/png": "[encoded data removed]",
      "text/plain": [
       "<Figure size 640x480 with 2 Axes>"
      ]
     },
     "metadata": {},
     "output_type": "display_data"
    },
    {
     "name": "stdout",
     "output_type": "stream",
     "text": [
      "Отчёт классификации:\n",
      "Wall time: 5min 10s\n"
     ]
    },
    {
     "data": {
      "text/html": [
       "<div>\n",
       "<style scoped>\n",
       "    .dataframe tbody tr th:only-of-type {\n",
       "        vertical-align: middle;\n",
       "    }\n",
       "\n",
       "    .dataframe tbody tr th {\n",
       "        vertical-align: top;\n",
       "    }\n",
       "\n",
       "    .dataframe thead th {\n",
       "        text-align: right;\n",
       "    }\n",
       "</style>\n",
       "<table border=\"1\" class=\"dataframe\">\n",
       "  <thead>\n",
       "    <tr style=\"text-align: right;\">\n",
       "      <th></th>\n",
       "      <th>precision</th>\n",
       "      <th>recall</th>\n",
       "      <th>f1-score</th>\n",
       "      <th>support</th>\n",
       "    </tr>\n",
       "  </thead>\n",
       "  <tbody>\n",
       "    <tr>\n",
       "      <th>0</th>\n",
       "      <td>0.9898</td>\n",
       "      <td>0.9939</td>\n",
       "      <td>0.9919</td>\n",
       "      <td>980.000</td>\n",
       "    </tr>\n",
       "    <tr>\n",
       "      <th>1</th>\n",
       "      <td>0.9826</td>\n",
       "      <td>0.9965</td>\n",
       "      <td>0.9895</td>\n",
       "      <td>1135.000</td>\n",
       "    </tr>\n",
       "    <tr>\n",
       "      <th>2</th>\n",
       "      <td>0.9865</td>\n",
       "      <td>0.9903</td>\n",
       "      <td>0.9884</td>\n",
       "      <td>1032.000</td>\n",
       "    </tr>\n",
       "    <tr>\n",
       "      <th>3</th>\n",
       "      <td>0.9881</td>\n",
       "      <td>0.9861</td>\n",
       "      <td>0.9871</td>\n",
       "      <td>1010.000</td>\n",
       "    </tr>\n",
       "    <tr>\n",
       "      <th>4</th>\n",
       "      <td>0.9808</td>\n",
       "      <td>0.9908</td>\n",
       "      <td>0.9858</td>\n",
       "      <td>982.000</td>\n",
       "    </tr>\n",
       "    <tr>\n",
       "      <th>5</th>\n",
       "      <td>0.9899</td>\n",
       "      <td>0.9865</td>\n",
       "      <td>0.9882</td>\n",
       "      <td>892.000</td>\n",
       "    </tr>\n",
       "    <tr>\n",
       "      <th>6</th>\n",
       "      <td>0.9854</td>\n",
       "      <td>0.9875</td>\n",
       "      <td>0.9864</td>\n",
       "      <td>958.000</td>\n",
       "    </tr>\n",
       "    <tr>\n",
       "      <th>7</th>\n",
       "      <td>0.9835</td>\n",
       "      <td>0.9854</td>\n",
       "      <td>0.9845</td>\n",
       "      <td>1028.000</td>\n",
       "    </tr>\n",
       "    <tr>\n",
       "      <th>8</th>\n",
       "      <td>0.9836</td>\n",
       "      <td>0.9846</td>\n",
       "      <td>0.9841</td>\n",
       "      <td>974.000</td>\n",
       "    </tr>\n",
       "    <tr>\n",
       "      <th>9</th>\n",
       "      <td>0.9908</td>\n",
       "      <td>0.9574</td>\n",
       "      <td>0.9738</td>\n",
       "      <td>1009.000</td>\n",
       "    </tr>\n",
       "    <tr>\n",
       "      <th>accuracy</th>\n",
       "      <td>0.9860</td>\n",
       "      <td>0.9860</td>\n",
       "      <td>0.9860</td>\n",
       "      <td>0.986</td>\n",
       "    </tr>\n",
       "    <tr>\n",
       "      <th>macro avg</th>\n",
       "      <td>0.9861</td>\n",
       "      <td>0.9859</td>\n",
       "      <td>0.9860</td>\n",
       "      <td>10000.000</td>\n",
       "    </tr>\n",
       "    <tr>\n",
       "      <th>weighted avg</th>\n",
       "      <td>0.9860</td>\n",
       "      <td>0.9860</td>\n",
       "      <td>0.9860</td>\n",
       "      <td>10000.000</td>\n",
       "    </tr>\n",
       "  </tbody>\n",
       "</table>\n",
       "</div>"
      ],
      "text/plain": [
       "              precision  recall  f1-score    support\n",
       "0                0.9898  0.9939    0.9919    980.000\n",
       "1                0.9826  0.9965    0.9895   1135.000\n",
       "2                0.9865  0.9903    0.9884   1032.000\n",
       "3                0.9881  0.9861    0.9871   1010.000\n",
       "4                0.9808  0.9908    0.9858    982.000\n",
       "5                0.9899  0.9865    0.9882    892.000\n",
       "6                0.9854  0.9875    0.9864    958.000\n",
       "7                0.9835  0.9854    0.9845   1028.000\n",
       "8                0.9836  0.9846    0.9841    974.000\n",
       "9                0.9908  0.9574    0.9738   1009.000\n",
       "accuracy         0.9860  0.9860    0.9860      0.986\n",
       "macro avg        0.9861  0.9859    0.9860  10000.000\n",
       "weighted avg     0.9860  0.9860    0.9860  10000.000"
      ]
     },
     "execution_count": 45,
     "metadata": {},
     "output_type": "execute_result"
    }
   ],
   "source": [
    "%%time\n",
    "# сконструируем и скомпилируем сверточную сеть для задачи:\n",
    "tf.random.set_seed(606)\n",
    "\n",
    "model = Sequential([\n",
    "    \n",
    "    #Conv2D_1:\n",
    "    Conv2D(filters=6, kernel_size=(5,5), padding='same',\n",
    "           input_shape=(28, 28, 1),\n",
    "           activation='linear'),\n",
    "    \n",
    "    #avgpooling_1:\n",
    "    AvgPool2D(pool_size=(2, 2), padding='same'),\n",
    "    \n",
    "    #Conv2D_2:\n",
    "    Conv2D(filters=15, kernel_size=(5,5), padding='valid',\n",
    "           activation='tanh'),\n",
    "    \n",
    "    #avgpooling_2:\n",
    "    AvgPool2D(pool_size=(2, 2), padding='valid'),\n",
    "\n",
    "    #flatten:\n",
    "    Flatten(), #(input_shape=(*X_train.shape[1:], 1)),\n",
    "    \n",
    "    #dense layers:\n",
    "    Dense(units=120, activation='relu'),\n",
    "    #Dropout(.3),\n",
    "    Dense(units=30, activation='sigmoid'),\n",
    "    Dense(10, activation='softmax')   ## sigmoid заменяется на функцию softmax\n",
    "])\n",
    "\n",
    "## зададим learning_rate оптимизатора, отличный от стандартного, для более быстрого обучения\n",
    "adam = Adam(learning_rate=0.001)\n",
    "\n",
    "## для 10 классов используем категориальную кросс-энтропию\n",
    "model.compile(optimizer=adam,\n",
    "              loss='sparse_categorical_crossentropy',\n",
    "              metrics='accuracy')\n",
    "\n",
    "# выведем информацию о модели и числе тренируемых параметров\n",
    "model.summary()\n",
    "\n",
    "## снова задаем EarlyStopping\n",
    "early_stopping_pic = EarlyStopping(\n",
    "    monitor=\"val_loss\",          ## монитор, отслеживающий метрику на валидации \n",
    "    min_delta=0.0001,\n",
    "    patience=20,                 ## задержка перед выходом из обучения по лучшему результату\n",
    "    verbose=1,\n",
    "    mode=\"auto\",                 ## режим монитора (loss - должен падать, метрика - улучшаться)\n",
    "    baseline=None,\n",
    "    restore_best_weights=True,   ## модель должна восстанавливаться с лучшими весами\n",
    "    start_from_epoch=10,\n",
    ")\n",
    "\n",
    "## снова задаем ReduceLROnPlateau\n",
    "reduce_lr_pic = ReduceLROnPlateau(\n",
    "    monitor=\"val_loss\",\n",
    "    factor=0.75,\n",
    "    patience=3,\n",
    "    verbose=1,\n",
    "    mode=\"auto\",\n",
    "    min_delta=0.00001,\n",
    "    cooldown=1,\n",
    "    min_lr=1e-10\n",
    ")\n",
    "\n",
    "num_epochs = 50\n",
    "\n",
    "model.fit(train_datagen,         ## генератор вместо (X_train, y_train)\n",
    "          validation_data=test_datagen,\n",
    "          epochs = num_epochs,           \n",
    "          #batch_size=64,        ## не указыватеся, т.к. есть генератор\n",
    "          #steps_per_epoch=100,  ## не указыватеся, т.к. есть генератор\n",
    "          callbacks=[early_stopping_pic, reduce_lr_pic],   ## передаём callback\n",
    "          shuffle=True,\n",
    "          verbose=0)\n",
    "\n",
    "## выведем матрицу ошибок и отчёт классификации\n",
    "\n",
    "# classification_report\n",
    "y_true = y_test\n",
    "y_pred = [x.argmax() for x in model.predict(X_test)]\n",
    "\n",
    "# матрица ошибок\n",
    "print('\\nМатрица ошибок классификации (на тестовой выборке):')\n",
    "ConfusionMatrixDisplay(confusion_matrix(y_true, y_pred)).plot()                             \n",
    "plt.show()\n",
    "\n",
    "# отчёт классификации\n",
    "\n",
    "print('Отчёт классификации:')\n",
    "\n",
    "report = classification_report(y_true, y_pred, digits=4, output_dict=True)\n",
    "pd.DataFrame(report).round(4).transpose()"
   ]
  },
  {
   "cell_type": "markdown",
   "id": "988aa671",
   "metadata": {},
   "source": [
    "- Успех предыдущего классификатора успешно удалось превзойти, вдобавок нейросеть получилась \"легче\" предыддущей по количеству параметров, однако при этом становятся заметны ограничения датасета в плане сравнения качества разных классификаторов подобной (или лучшей) архитектуры. Видно, что дальнейшие изменения позволят ещё несколько нарастить показатели, но дабы не усложнять исследование данный этап станем считать завершенным.\n",
    "\n",
    "### Выводы.\n",
    "\n",
    "* Хотя углублённое изучение математических основ и программных реализаций нейросетей/перцептронов не выполнялось в силу временных и ресурсных ограничений (как со стороны автора так и со стороны учебной платформы 1Т), но всё-таки работа вышла за рамки задания. Удалось затронуть и проанализировать многие основополагающие понятия указанной области, работа получила новое \"измерение\" в виде синтеза этапов исследования и решения задачи.\n",
    "\n",
    "\n",
    "* Полносвязные нейронные сети не могут \"из коробки\" успешно работать с большими изображениями: это ресурсоёмко и, если нейронов мало, сеть не найдёт зависимостей, а если много — c гарантией переобучится. Эта проблема решается свёрточными слоями, а также зарекомендовавшие себя с прошествием времени специализированные архитектурами нейронных сетей.\n",
    "\n",
    "\n",
    "* Чтобы увеличить качество распознавания, кажется разумным использование следующих приёмов:   \n",
    "    - простого увеличения качества изображений на входе (не такое сильное сжатие как 6х6),  \n",
    "    - либо разумное использование несжатых изображений вкупе со свёрточными и пулинговыми слоями для уменьшения вычислительной нагрузки,\n",
    "    - проведение операций аугментации для увеличния числа обучающих объектов.  \n",
    "    \n",
    "    \n",
    "* Наконец автору удалось установить заметное преимущество перцепртронов глубокого обучения при сравнении с результатами работы классификаций, построенных на классических ML-алгоритмах. Превосходство в конце концов стало заметным благодаря обобшающей способности нейросетей, делающих их по истине универсальными классификаторами."
   ]
  },
  {
   "cell_type": "code",
   "execution_count": 141,
   "id": "c5c1fa54",
   "metadata": {},
   "outputs": [
    {
     "data": {
      "text/plain": [
       "(False, False)"
      ]
     },
     "execution_count": 141,
     "metadata": {},
     "output_type": "execute_result"
    }
   ],
   "source": [
    "# небольшя проверка возможностей переноса вычислений на GPU\\TPU\n",
    "import torch\n",
    "torch.has_mps, torch.cuda.is_available() ## на 'нет' и суда нет"
   ]
  }
 ],
 "metadata": {
  "kernelspec": {
   "display_name": "Python 3 (ipykernel)",
   "language": "python",
   "name": "python3"
  },
  "language_info": {
   "codemirror_mode": {
    "name": "ipython",
    "version": 3
   },
   "file_extension": ".py",
   "mimetype": "text/x-python",
   "name": "python",
   "nbconvert_exporter": "python",
   "pygments_lexer": "ipython3",
   "version": "3.9.13"
  },
  "toc": {
   "base_numbering": 1,
   "nav_menu": {},
   "number_sections": true,
   "sideBar": true,
   "skip_h1_title": true,
   "title_cell": "Table of Contents",
   "title_sidebar": "Contents",
   "toc_cell": false,
   "toc_position": {
    "height": "553.542px",
    "left": "1098.64px",
    "top": "79.8532px",
    "width": "165px"
   },
   "toc_section_display": true,
   "toc_window_display": true
  },
  "varInspector": {
   "cols": {
    "lenName": 16,
    "lenType": 16,
    "lenVar": 40
   },
   "kernels_config": {
    "python": {
     "delete_cmd_postfix": "",
     "delete_cmd_prefix": "del ",
     "library": "var_list.py",
     "varRefreshCmd": "print(var_dic_list())"
    },
    "r": {
     "delete_cmd_postfix": ") ",
     "delete_cmd_prefix": "rm(",
     "library": "var_list.r",
     "varRefreshCmd": "cat(var_dic_list()) "
    }
   },
   "types_to_exclude": [
    "module",
    "function",
    "builtin_function_or_method",
    "instance",
    "_Feature"
   ],
   "window_display": false
  }
 },
 "nbformat": 4,
 "nbformat_minor": 5
}
